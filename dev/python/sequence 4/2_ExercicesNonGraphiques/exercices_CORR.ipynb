{
 "cells": [
  {
   "cell_type": "markdown",
   "id": "79bfde83",
   "metadata": {},
   "source": [
    "# 2. Exercices non graphiques"
   ]
  },
  {
   "cell_type": "markdown",
   "id": "95271ce5",
   "metadata": {},
   "source": [
    "## 16."
   ]
  },
  {
   "cell_type": "code",
   "execution_count": 1,
   "id": "eb4d0aa9",
   "metadata": {},
   "outputs": [],
   "source": [
    "def fx(t, n):\n",
    "    \n",
    "    if n == len(t):\n",
    "        \n",
    "        return 0\n",
    "    \n",
    "    if t[n] == 0:\n",
    "        \n",
    "        return 1+fx(t, n+1)\n",
    "    \n",
    "    else:\n",
    "        \n",
    "        return fx(t, n+1)"
   ]
  },
  {
   "cell_type": "code",
   "execution_count": 2,
   "id": "54c2d64a",
   "metadata": {},
   "outputs": [
    {
     "name": "stdout",
     "output_type": "stream",
     "text": [
      "4\n"
     ]
    }
   ],
   "source": [
    "l = [5,3,4,2,0,4,2,0,0,1,0,2]\n",
    "\n",
    "print(fx(l,0))"
   ]
  },
  {
   "cell_type": "markdown",
   "id": "ea53b8bb",
   "metadata": {},
   "source": [
    "- Cette fonction compte le nombre de zéros qui'il y a dans un tableau `t`."
   ]
  },
  {
   "cell_type": "markdown",
   "id": "cb918b6b",
   "metadata": {},
   "source": [
    "## 17."
   ]
  },
  {
   "cell_type": "code",
   "execution_count": 3,
   "id": "966427af",
   "metadata": {},
   "outputs": [],
   "source": [
    " def fx(t, n, d, f):\n",
    "        \n",
    "        if d > f:\n",
    "            \n",
    "            return False\n",
    "        \n",
    "        m = (d+f)//2\n",
    "        \n",
    "        if t[m] == n:\n",
    "            \n",
    "            return True\n",
    "        \n",
    "        elif t[m] > n:\n",
    "            \n",
    "            return fx(t, n, d, m-1)\n",
    "        \n",
    "        else:\n",
    "            \n",
    "            return fx(t, n, m+1, f)"
   ]
  },
  {
   "cell_type": "code",
   "execution_count": 4,
   "id": "7ee6918b",
   "metadata": {},
   "outputs": [
    {
     "name": "stdout",
     "output_type": "stream",
     "text": [
      "True\n",
      "False\n",
      "True\n"
     ]
    }
   ],
   "source": [
    "l = [1, 4, 8, 9, 12, 17, 21, 25, 90]\n",
    "\n",
    "print(fx(l, 8, 0, len(l)-1))\n",
    "print(fx(l, 10, 0, len(l)-1))\n",
    "print(fx(l, 1, 0, len(l)-1))"
   ]
  },
  {
   "cell_type": "markdown",
   "id": "1926c871",
   "metadata": {},
   "source": [
    "- Cherche par une procédure par dichotomique si `n` appartient à tableau trié `t`."
   ]
  },
  {
   "cell_type": "markdown",
   "id": "f261cfdb",
   "metadata": {},
   "source": [
    "## 18."
   ]
  },
  {
   "cell_type": "code",
   "execution_count": 5,
   "id": "b0f71e14",
   "metadata": {},
   "outputs": [],
   "source": [
    "def somme_carres(n):\n",
    "    \n",
    "    if n == 0:\n",
    "        \n",
    "        return 0\n",
    "    \n",
    "    else:\n",
    "        \n",
    "        return n**2 + somme_carres(n-1)"
   ]
  },
  {
   "cell_type": "code",
   "execution_count": 6,
   "id": "a4d65336",
   "metadata": {},
   "outputs": [
    {
     "data": {
      "text/plain": [
       "385"
      ]
     },
     "execution_count": 6,
     "metadata": {},
     "output_type": "execute_result"
    }
   ],
   "source": [
    "somme_carres(10)"
   ]
  },
  {
   "cell_type": "code",
   "execution_count": 7,
   "id": "ef0b86b4",
   "metadata": {},
   "outputs": [
    {
     "data": {
      "text/plain": [
       "385"
      ]
     },
     "execution_count": 7,
     "metadata": {},
     "output_type": "execute_result"
    }
   ],
   "source": [
    "# vérification\n",
    "\n",
    "somme = 0\n",
    "\n",
    "for i in range(10+1):\n",
    "    \n",
    "    somme += i**2\n",
    "    \n",
    "somme"
   ]
  },
  {
   "cell_type": "markdown",
   "id": "ca474e39",
   "metadata": {},
   "source": [
    "## 19."
   ]
  },
  {
   "cell_type": "code",
   "execution_count": 8,
   "id": "2517b6da",
   "metadata": {},
   "outputs": [],
   "source": [
    "def tout_positif(tab, debut=0):\n",
    "    \n",
    "    if debut == len(tab):\n",
    "        \n",
    "        return True\n",
    "    \n",
    "    else:\n",
    "        \n",
    "        return tab[debut] > 0 and tout_positif(tab, debut + 1)"
   ]
  },
  {
   "cell_type": "code",
   "execution_count": 9,
   "id": "80564e7e",
   "metadata": {},
   "outputs": [
    {
     "name": "stdout",
     "output_type": "stream",
     "text": [
      "\n",
      "Recherches:\n",
      "False\n",
      "True\n",
      "True\n",
      "False\n",
      "True\n"
     ]
    }
   ],
   "source": [
    "l1 = [1, -4, 8, 9, -12, 17, 21, 25, 90]\n",
    "l2 = [1, 2, 3, 4]\n",
    "l3 = [1]\n",
    "l4 = [-1]\n",
    "l5 = []\n",
    "\n",
    "print(\"\\nRecherches:\")\n",
    "print(tout_positif(l1, debut=0))\n",
    "print(tout_positif(l2, debut=0))\n",
    "print(tout_positif(l3, debut=0))\n",
    "print(tout_positif(l4, debut=0))\n",
    "print(tout_positif(l5, debut=0))"
   ]
  },
  {
   "cell_type": "markdown",
   "id": "6730eaae",
   "metadata": {},
   "source": [
    "## 20."
   ]
  },
  {
   "cell_type": "code",
   "execution_count": 10,
   "id": "b8761610",
   "metadata": {},
   "outputs": [],
   "source": [
    "def chercher(tab, x, debut=0):\n",
    "    \n",
    "    if debut == len(tab):\n",
    "        \n",
    "        return False\n",
    "    \n",
    "    else:\n",
    "        \n",
    "        return tab[debut] == x or chercher(tab, x, debut + 1)"
   ]
  },
  {
   "cell_type": "code",
   "execution_count": 11,
   "id": "053fee08",
   "metadata": {},
   "outputs": [
    {
     "name": "stdout",
     "output_type": "stream",
     "text": [
      "\n",
      "Recherches dans l1:\n",
      "True\n",
      "True\n",
      "True\n",
      "False\n",
      "\n",
      "Recherches dans l2:\n",
      "True\n",
      "False\n",
      "\n",
      "Recherches dans l3:\n",
      "False\n"
     ]
    }
   ],
   "source": [
    "l1 = [1, -4, 8, 9, -12, 17, 21, 25, 90]\n",
    "l2 = [1]\n",
    "l3 = []\n",
    "\n",
    "print(\"\\nRecherches dans l1:\")\n",
    "print(chercher(l1, 8, debut=0))\n",
    "print(chercher(l1, 1, debut=0))\n",
    "print(chercher(l1, 90, debut=0))\n",
    "print(chercher(l1, -10, debut=0))\n",
    "\n",
    "print(\"\\nRecherches dans l2:\")\n",
    "print(chercher(l2, 1, debut=0))\n",
    "print(chercher(l2, 2, debut=0))\n",
    "\n",
    "print(\"\\nRecherches dans l3:\")\n",
    "print(chercher(l3, 1, debut=0))"
   ]
  },
  {
   "cell_type": "markdown",
   "id": "98f46ac4",
   "metadata": {},
   "source": [
    "## 21."
   ]
  },
  {
   "cell_type": "code",
   "execution_count": 12,
   "id": "15e54bb4",
   "metadata": {},
   "outputs": [],
   "source": [
    "# recherche dichotomique\n",
    "\n",
    "def chercher2(tab, x):\n",
    "    \n",
    "    if len(tab) == 1:\n",
    "        \n",
    "        return tab[0] == x\n",
    "    \n",
    "    elif len(tab) == 0:\n",
    "        \n",
    "        return False\n",
    "    \n",
    "    else:\n",
    "        \n",
    "        return chercher2(tab[0: len(tab)//2], x) or chercher2(tab[len(tab)//2: ], x)"
   ]
  },
  {
   "cell_type": "code",
   "execution_count": 13,
   "id": "966899b3",
   "metadata": {},
   "outputs": [
    {
     "name": "stdout",
     "output_type": "stream",
     "text": [
      "\n",
      "Recherches dans l1:\n",
      "True\n",
      "True\n",
      "True\n",
      "False\n",
      "\n",
      "Recherches dans l2:\n",
      "True\n",
      "False\n",
      "\n",
      "Recherches dans l3:\n",
      "False\n"
     ]
    }
   ],
   "source": [
    "l1 = [1, -4, 8, 9, -12, 17, 21, 25, 90]\n",
    "l2 = [1]\n",
    "l3 = []\n",
    "\n",
    "print(\"\\nRecherches dans l1:\")\n",
    "print(chercher2(l1, 8))\n",
    "print(chercher2(l1, 1))\n",
    "print(chercher2(l1, 90))\n",
    "print(chercher2(l1, -10))\n",
    "\n",
    "print(\"\\nRecherches dans l2:\")\n",
    "print(chercher2(l2, 1))\n",
    "print(chercher2(l2, 2))\n",
    "\n",
    "print(\"\\nRecherches dans l3:\")\n",
    "print(chercher2(l3, 1))"
   ]
  },
  {
   "cell_type": "markdown",
   "id": "9f3b1a3e",
   "metadata": {},
   "source": [
    "## 22."
   ]
  },
  {
   "cell_type": "code",
   "execution_count": 14,
   "id": "745b8bbd",
   "metadata": {},
   "outputs": [],
   "source": [
    "def fibo(n):\n",
    "    \n",
    "    if n == 0 or n == 1:\n",
    "        \n",
    "        return 1\n",
    "    \n",
    "    else:\n",
    "        \n",
    "        return fibo(n-1) + fibo(n-2)"
   ]
  },
  {
   "cell_type": "code",
   "execution_count": 15,
   "id": "7b4ebf9f",
   "metadata": {},
   "outputs": [
    {
     "name": "stdout",
     "output_type": "stream",
     "text": [
      "1 1 2 3 5 8 13 21 34 55 89 144 233 377 610 "
     ]
    }
   ],
   "source": [
    "for i in range(15):\n",
    "    \n",
    "    print(fibo(i), end=\" \")"
   ]
  },
  {
   "cell_type": "markdown",
   "id": "bef5f71c",
   "metadata": {},
   "source": [
    "- Non, cette fonction n'est pas efficace en terme de complexité.\n",
    "- On peut l'améliorer en mémorisant les deux derniers éléments, comme suit:"
   ]
  },
  {
   "cell_type": "code",
   "execution_count": 16,
   "id": "8e9e2b66",
   "metadata": {},
   "outputs": [],
   "source": [
    "def fibo2(n):\n",
    "    \n",
    "    if n == 0 or n == 1:\n",
    "        \n",
    "        return 1\n",
    "    \n",
    "    else:\n",
    "        \n",
    "        dernierEl = 1\n",
    "        avantDernierEl = 1\n",
    "\n",
    "        for i in range(2, n+1):\n",
    "            \n",
    "            x = dernierEl + avantDernierEl\n",
    "            avantDernierEl = dernierEl\n",
    "            dernierEl = x\n",
    "\n",
    "        return dernierEl"
   ]
  },
  {
   "cell_type": "code",
   "execution_count": 17,
   "id": "12ec1dfc",
   "metadata": {},
   "outputs": [
    {
     "name": "stdout",
     "output_type": "stream",
     "text": [
      "1 1 2 3 5 8 13 21 34 55 89 144 233 377 610 "
     ]
    }
   ],
   "source": [
    "for i in range(15):\n",
    "    print(fibo2(i), end=\" \")"
   ]
  },
  {
   "cell_type": "markdown",
   "id": "35385bc8",
   "metadata": {},
   "source": [
    "## 23."
   ]
  },
  {
   "cell_type": "code",
   "execution_count": 18,
   "id": "6f9efc90",
   "metadata": {},
   "outputs": [],
   "source": [
    "def genererMotsDePasses(caracteres, k):\n",
    "    \n",
    "    if k == 0 or k == 1:\n",
    "        \n",
    "        return caracteres\n",
    "    \n",
    "    else:\n",
    "        \n",
    "        l = []\n",
    "        \n",
    "        for mot in genererMotsDePasses(caracteres, k-1):\n",
    "            \n",
    "            for c in caracteres:\n",
    "                \n",
    "                l.append(mot + c)\n",
    "                \n",
    "        return l"
   ]
  },
  {
   "cell_type": "code",
   "execution_count": 19,
   "id": "6133d898",
   "metadata": {},
   "outputs": [
    {
     "data": {
      "text/plain": [
       "['aaa', 'aab', 'aba', 'abb', 'baa', 'bab', 'bba', 'bbb']"
      ]
     },
     "execution_count": 19,
     "metadata": {},
     "output_type": "execute_result"
    }
   ],
   "source": [
    "caracteres = [\"a\", \"b\"]\n",
    "\n",
    "genererMotsDePasses(caracteres, 3)"
   ]
  },
  {
   "cell_type": "code",
   "execution_count": 20,
   "id": "8d895662",
   "metadata": {},
   "outputs": [
    {
     "data": {
      "text/plain": [
       "['aaa',\n",
       " 'aab',\n",
       " 'aac',\n",
       " 'aba',\n",
       " 'abb',\n",
       " 'abc',\n",
       " 'aca',\n",
       " 'acb',\n",
       " 'acc',\n",
       " 'baa',\n",
       " 'bab',\n",
       " 'bac',\n",
       " 'bba',\n",
       " 'bbb',\n",
       " 'bbc',\n",
       " 'bca',\n",
       " 'bcb',\n",
       " 'bcc',\n",
       " 'caa',\n",
       " 'cab',\n",
       " 'cac',\n",
       " 'cba',\n",
       " 'cbb',\n",
       " 'cbc',\n",
       " 'cca',\n",
       " 'ccb',\n",
       " 'ccc']"
      ]
     },
     "execution_count": 20,
     "metadata": {},
     "output_type": "execute_result"
    }
   ],
   "source": [
    "caracteres = [\"a\", \"b\", \"c\"]\n",
    "\n",
    "genererMotsDePasses(caracteres, 3)"
   ]
  },
  {
   "cell_type": "markdown",
   "id": "5b74ddd2",
   "metadata": {},
   "source": [
    "## 24."
   ]
  },
  {
   "cell_type": "code",
   "execution_count": 22,
   "id": "e321ccd1",
   "metadata": {},
   "outputs": [],
   "source": [
    "def generer_suites_croissantes(n, k):\n",
    "    \n",
    "    assert n >= k, \"n must be larger than k\"\n",
    "        \n",
    "    if n == 0 or k == 0:\n",
    "        \n",
    "        return [[]] # liste de listes\n",
    "    \n",
    "    elif k == n:\n",
    "        \n",
    "        return [list(range(1, n+1))] # liste de listes\n",
    "    \n",
    "    else:\n",
    "        \n",
    "        resultat = generer_suites_croissantes(n-1, k)\n",
    "        suite_tmp = generer_suites_croissantes(n-1, k-1)\n",
    "        \n",
    "        for l in suite_tmp:\n",
    "                    \n",
    "            resultat.append(l + [n])\n",
    "                \n",
    "        return resultat"
   ]
  },
  {
   "cell_type": "code",
   "execution_count": 24,
   "id": "aba20bc3",
   "metadata": {},
   "outputs": [
    {
     "data": {
      "text/plain": [
       "[[1, 2, 3],\n",
       " [1, 2, 4],\n",
       " [1, 3, 4],\n",
       " [2, 3, 4],\n",
       " [1, 2, 5],\n",
       " [1, 3, 5],\n",
       " [2, 3, 5],\n",
       " [1, 4, 5],\n",
       " [2, 4, 5],\n",
       " [3, 4, 5]]"
      ]
     },
     "execution_count": 24,
     "metadata": {},
     "output_type": "execute_result"
    }
   ],
   "source": [
    "generer_suites_croissantes(5, 3)"
   ]
  },
  {
   "cell_type": "markdown",
   "id": "822d71ba",
   "metadata": {},
   "source": [
    "## 28."
   ]
  },
  {
   "cell_type": "code",
   "execution_count": 2,
   "id": "91784b52",
   "metadata": {},
   "outputs": [],
   "source": [
    "G= [ [ 3 , 0 , 0 , 4 , 1 , 0 , 0 , 8 , 7 ],\n",
    "[ 0 , 0 , 9 , 0 , 0 , 5 , 0 , 6 , 0 ],\n",
    "[ 4 , 0 , 0 , 7 , 9 , 0 , 5 , 0 , 3 ],\n",
    "[ 0 , 7 , 3 , 2 , 4 , 0 , 0 , 0 , 0 ],\n",
    "[ 0 , 0 , 0 , 0 , 0 , 0 , 0 , 0 , 0 ],\n",
    "[ 0 , 0 , 0 , 0 , 7 , 8 , 2 , 4 , 0 ],\n",
    "[ 6 , 0 , 2 , 0 , 8 , 3 , 0 , 0 , 5 ],\n",
    "[ 0 , 5 , 0 , 1 , 0 , 0 , 3 , 0 , 0 ],\n",
    "[ 1 , 3 , 0 , 0 , 2 , 4 , 0 , 9 , 6 ] ]"
   ]
  },
  {
   "cell_type": "code",
   "execution_count": 3,
   "id": "f00212f8",
   "metadata": {},
   "outputs": [
    {
     "data": {
      "text/plain": [
       "[[3, 0, 0, 4, 1, 0, 0, 8, 7],\n",
       " [0, 0, 9, 0, 0, 5, 0, 6, 0],\n",
       " [4, 0, 0, 7, 9, 0, 5, 0, 3],\n",
       " [0, 7, 3, 2, 4, 0, 0, 0, 0],\n",
       " [0, 0, 0, 0, 0, 0, 0, 0, 0],\n",
       " [0, 0, 0, 0, 7, 8, 2, 4, 0],\n",
       " [6, 0, 2, 0, 8, 3, 0, 0, 5],\n",
       " [0, 5, 0, 1, 0, 0, 3, 0, 0],\n",
       " [1, 3, 0, 0, 2, 4, 0, 9, 6]]"
      ]
     },
     "execution_count": 3,
     "metadata": {},
     "output_type": "execute_result"
    }
   ],
   "source": [
    "G"
   ]
  },
  {
   "cell_type": "code",
   "execution_count": 13,
   "id": "008c8e0b",
   "metadata": {},
   "outputs": [
    {
     "data": {
      "text/plain": [
       "[[3, 0, 0], [0, 0, 9], [4, 0, 0]]"
      ]
     },
     "execution_count": 13,
     "metadata": {},
     "output_type": "execute_result"
    }
   ],
   "source": [
    "[G[0:3][i][0:3] for i in range(3)]"
   ]
  },
  {
   "cell_type": "code",
   "execution_count": 45,
   "id": "20835f45",
   "metadata": {},
   "outputs": [],
   "source": [
    "def grille_valide(G):\n",
    "    \n",
    "    N = len(G)\n",
    "    res = True\n",
    "    \n",
    "    for i in range(N):\n",
    "        \n",
    "        # lignes\n",
    "        ligne = G[i]\n",
    "        \n",
    "        for i in range(1, N+1):\n",
    "            if ligne.count(i) != 1:\n",
    "                res = False\n",
    "                return res\n",
    "            \n",
    "        # colonnes\n",
    "        col = G[i:]\n",
    "        \n",
    "        for i in range(1, N+1):\n",
    "            if col.count(i) != 1:\n",
    "                res = False\n",
    "                return res\n",
    "        \n",
    "        # sous-grilles\n",
    "        n = N ** 0.5\n",
    "        \n",
    "        for i in range(0, N, n):\n",
    "            for j in range(0, N, n):\n",
    "\n",
    "                g = [G[i:i+n][k][j:j+n] for k in range(n)] # sous-grille\n",
    "                print(g)\n",
    "                if not grille_valide(g):\n",
    "                    return grille_valide(g)"
   ]
  },
  {
   "cell_type": "code",
   "execution_count": null,
   "id": "97c13a0a",
   "metadata": {},
   "outputs": [],
   "source": [
    "grille_valide(G)"
   ]
  },
  {
   "cell_type": "code",
   "execution_count": 46,
   "id": "1f1945c8",
   "metadata": {},
   "outputs": [
    {
     "name": "stdout",
     "output_type": "stream",
     "text": [
      "[[3, 0, 0], [0, 0, 9], [4, 0, 0]]\n",
      "[[4, 1, 0], [0, 0, 5], [7, 9, 0]]\n",
      "[[0, 8, 7], [0, 6, 0], [5, 0, 3]]\n",
      "[[0, 7, 3], [0, 0, 0], [0, 0, 0]]\n",
      "[[2, 4, 0], [0, 0, 0], [0, 7, 8]]\n",
      "[[0, 0, 0], [0, 0, 0], [2, 4, 0]]\n",
      "[[6, 0, 2], [0, 5, 0], [1, 3, 0]]\n",
      "[[0, 8, 3], [1, 0, 0], [0, 2, 4]]\n",
      "[[0, 0, 5], [3, 0, 0], [0, 9, 6]]\n"
     ]
    }
   ],
   "source": [
    "N, n = 9, 3\n",
    "\n",
    "for i in range(0, N, n):\n",
    "    for j in range(0, N, n):\n",
    "\n",
    "        g = [G[i:i+n][k][j:j+n] for k in range(n)] # sous-grille\n",
    "        print(g)"
   ]
  },
  {
   "cell_type": "code",
   "execution_count": 39,
   "id": "0f62f19b",
   "metadata": {},
   "outputs": [
    {
     "data": {
      "text/plain": [
       "False"
      ]
     },
     "execution_count": 39,
     "metadata": {},
     "output_type": "execute_result"
    }
   ],
   "source": [
    "grille_valide(G)"
   ]
  },
  {
   "cell_type": "code",
   "execution_count": 4,
   "id": "d81bd0b2",
   "metadata": {},
   "outputs": [],
   "source": [
    "def sudoku(G):\n",
    "    \n",
    "    N = len(G)\n",
    "    \n",
    "    for i in range(N):\n",
    "        for i in range()"
   ]
  },
  {
   "cell_type": "code",
   "execution_count": 5,
   "id": "c8b2637f",
   "metadata": {},
   "outputs": [],
   "source": [
    "sudoku(G)"
   ]
  },
  {
   "cell_type": "code",
   "execution_count": null,
   "id": "b033a26b",
   "metadata": {},
   "outputs": [],
   "source": []
  }
 ],
 "metadata": {
  "kernelspec": {
   "display_name": "Python 3 (ipykernel)",
   "language": "python",
   "name": "python3"
  },
  "language_info": {
   "codemirror_mode": {
    "name": "ipython",
    "version": 3
   },
   "file_extension": ".py",
   "mimetype": "text/x-python",
   "name": "python",
   "nbconvert_exporter": "python",
   "pygments_lexer": "ipython3",
   "version": "3.9.5"
  }
 },
 "nbformat": 4,
 "nbformat_minor": 5
}
