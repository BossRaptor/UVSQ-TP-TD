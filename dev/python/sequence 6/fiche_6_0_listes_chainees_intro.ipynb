{
 "cells": [
  {
   "cell_type": "markdown",
   "metadata": {
    "id": "cjDU4EhlsPk6"
   },
   "source": [
    " <img src=\"https://cdn.pixabay.com/photo/2018/03/11/15/35/duck-3217049_960_720.jpg\" align=right width=\"400\">  \n",
    " \n",
    "# Les Listes Chaînées\n",
    "Les listes chaînées sont une structure de données, c'est-à-dire une façon de stocker les données, comme par exemple un tableau (list) ou un set. La différence est qu'il s'agit en quelque sorte d'une structure que nous allons construire nous même. Elles permettent des opérations différentes d'un tableau et sont plus souples.\n"
   ]
  },
  {
   "cell_type": "markdown",
   "metadata": {},
   "source": [
    "## Un petit jeu de piste pour commencer\n",
    "\n",
    "Nous vous avions écrit un message dans une chaîne de caractères, mais elle a été mélangée par un petit lutin malin, c'est tout de même ballot.\n",
    "Heureusement, il nous a aussi laissé :\n",
    "\n",
    "- l'indice de **départ** du vrai message dans le message codé\n",
    "- pour chaque indice dans le message codé, l'indice de la lettre **suivante**...\n"
   ]
  },
  {
   "cell_type": "code",
   "execution_count": null,
   "metadata": {},
   "outputs": [],
   "source": [
    "message_codé = \"hcioélev-i Ao   udJie eu2onV ! lshVc2seyu mT0A 3oeere smosrueloedousnod  !s s zr aeeos,uuQCtAteiFst rgip  P\"\n",
    "suivante = [\n",
    "    55,\n",
    "    50,\n",
    "    97,\n",
    "    70,\n",
    "    83,\n",
    "    52,\n",
    "    78,\n",
    "    60,\n",
    "    34,\n",
    "    91,\n",
    "    54,\n",
    "    7,\n",
    "    42,\n",
    "    90,\n",
    "    45,\n",
    "    27,\n",
    "    22,\n",
    "    23,\n",
    "    25,\n",
    "    12,\n",
    "    58,\n",
    "    36,\n",
    "    75,\n",
    "    13,\n",
    "    47,\n",
    "    39,\n",
    "    4,\n",
    "    65,\n",
    "    64,\n",
    "    80,\n",
    "    5,\n",
    "    101,\n",
    "    77,\n",
    "    20,\n",
    "    69,\n",
    "    15,\n",
    "    44,\n",
    "    105,\n",
    "    32,\n",
    "    82,\n",
    "    57,\n",
    "    17,\n",
    "    103,\n",
    "    100,\n",
    "    24,\n",
    "    31,\n",
    "    96,\n",
    "    53,\n",
    "    79,\n",
    "    71,\n",
    "    41,\n",
    "    1,\n",
    "    67,\n",
    "    29,\n",
    "    84,\n",
    "    38,\n",
    "    87,\n",
    "    86,\n",
    "    28,\n",
    "    76,\n",
    "    35,\n",
    "    81,\n",
    "    51,\n",
    "    10,\n",
    "    49,\n",
    "    40,\n",
    "    2,\n",
    "    14,\n",
    "    26,\n",
    "    88,\n",
    "    63,\n",
    "    93,\n",
    "    11,\n",
    "    None,\n",
    "    102,\n",
    "    61,\n",
    "    94,\n",
    "    73,\n",
    "    8,\n",
    "    95,\n",
    "    89,\n",
    "    46,\n",
    "    59,\n",
    "    21,\n",
    "    9,\n",
    "    30,\n",
    "    104,\n",
    "    85,\n",
    "    37,\n",
    "    16,\n",
    "    3,\n",
    "    72,\n",
    "    68,\n",
    "    56,\n",
    "    99,\n",
    "    98,\n",
    "    62,\n",
    "    74,\n",
    "    0,\n",
    "    92,\n",
    "    19,\n",
    "    48,\n",
    "    6,\n",
    "    33,\n",
    "    106,\n",
    "    43,\n",
    "    66,\n",
    "]\n",
    "départ = 18"
   ]
  },
  {
   "cell_type": "markdown",
   "metadata": {},
   "source": [
    "D'après ce que je comprends, l'indice de départ est 18 donc la première lettre du vrai message est :\n"
   ]
  },
  {
   "cell_type": "code",
   "execution_count": 2,
   "metadata": {},
   "outputs": [
    {
     "data": {
      "text/plain": [
       "'J'"
      ]
     },
     "execution_count": 2,
     "metadata": {},
     "output_type": "execute_result"
    }
   ],
   "source": [
    "message_codé[18]"
   ]
  },
  {
   "cell_type": "markdown",
   "metadata": {},
   "source": [
    "Ensuite, dans le tableau **suivante**, on a\n"
   ]
  },
  {
   "cell_type": "code",
   "execution_count": 3,
   "metadata": {},
   "outputs": [
    {
     "data": {
      "text/plain": [
       "25"
      ]
     },
     "execution_count": 3,
     "metadata": {},
     "output_type": "execute_result"
    }
   ],
   "source": [
    "suivante[18]"
   ]
  },
  {
   "cell_type": "markdown",
   "metadata": {},
   "source": [
    "donc la deuxième lettre du message à reconstituer est\n"
   ]
  },
  {
   "cell_type": "code",
   "execution_count": 4,
   "metadata": {},
   "outputs": [
    {
     "data": {
      "text/plain": [
       "'o'"
      ]
     },
     "execution_count": 4,
     "metadata": {},
     "output_type": "execute_result"
    }
   ],
   "source": [
    "message_codé[25]"
   ]
  },
  {
   "cell_type": "markdown",
   "metadata": {},
   "source": [
    "ça commence donc par 'Jo' (quel suspense).\n",
    "\n",
    "<img src=\"https://cdn.pixabay.com/photo/2018/01/04/16/53/building-3061124_960_720.png\" width=30 align=left><div class=\"alert alert-block alert-danger\">**Exo 6.0 - ça décode**  \n",
    " A vous d'écrire un code, par exemple dans une fonction, qui reconstitue entièrement le message initial !\n"
   ]
  },
  {
   "cell_type": "code",
   "execution_count": null,
   "metadata": {},
   "outputs": [],
   "source": [
    "def decr(message_codé, suivante, départ):\n",
    "    message_décr = \"\"\n",
    "    i = départ\n",
    "    while i is not None:\n",
    "        message_décr += message_codé[i]\n",
    "        i = suivante[i]\n",
    "    return message_décr"
   ]
  },
  {
   "cell_type": "code",
   "execution_count": 11,
   "metadata": {},
   "outputs": [
    {
     "data": {
      "text/plain": [
       "'Joyeuse Année 2023 ! Que la Force du Code soit Avec Vous, Puissiez-Vous Triompher de tous les Algorithmes !'"
      ]
     },
     "execution_count": 11,
     "metadata": {},
     "output_type": "execute_result"
    }
   ],
   "source": [
    "decr(message_codé, suivante, départ)"
   ]
  },
  {
   "cell_type": "markdown",
   "metadata": {},
   "source": []
  },
  {
   "cell_type": "markdown",
   "metadata": {
    "id": "_X9mT53cs_5b"
   },
   "source": [
    "## Listes chaînées : première approche avec des dictionnaires\n",
    "\n",
    "Si vous avez compris l'esprit du jeu de piste précédent, vous êtes fin prêt pour les listes chaînées.\n",
    "Si on fait le bilan du jeu de piste, on avait à chaque étape :\n",
    "\n",
    "- la **valeur** de la lettre à afficher\n",
    "- la position dans la \"mémoire\" (le tableau) de la lettre **suivante**\n",
    "\n",
    "L'objet de base pour créer une liste chaînée est la **cellule**. Pour commencer, une cellule sera pour nous un dictionnaire avec seulement deux clés nommées \"valeur\" et \"suivante\". On crée plusieurs cellules ci-dessous, essayez de comprendre comment elles sont construites.\n"
   ]
  },
  {
   "cell_type": "code",
   "execution_count": null,
   "metadata": {
    "colab": {
     "base_uri": "https://localhost:8080/"
    },
    "id": "SgWiQXEIsZPh",
    "outputId": "88df7b8e-5632-46a4-adb7-50b587e68fa5"
   },
   "outputs": [],
   "source": [
    "c1 = {\"valeur\": 50, \"suivante\": None}\n",
    "c2 = {\"valeur\": 20, \"suivante\": c1}\n",
    "c3 = {\"valeur\": 10, \"suivante\": c2}\n",
    "c4 = {\"valeur\": 30, \"suivante\": c3}"
   ]
  },
  {
   "cell_type": "markdown",
   "metadata": {},
   "source": [
    "Chacune de ces cellules contient une vraie valeur à stocker, ici des entiers 10,20 etc., et possède une référence à une autre cellule. C'est plus simple que pour le jeu de piste, car chaque cellule contient directement le nom de la cellule suivante.\n",
    "\n",
    "<img src=\"https://cdn.pixabay.com/photo/2018/01/04/16/53/building-3061124_960_720.png\" width=30 align=left><div class=\"alert alert-block alert-danger\">**Exo 6.1 - Affichage à la main**  \n",
    "Affichez en utilisant des print les valeurs contenues dans les cellules c1, c2, c3 et c4. Essayez de le faire en utilisant seulement l'identifiant c1, en écrivant `c1['suivante']`, `c1['suivante']['suivante']` etc .\n",
    "L'ordre des valeurs est 30, 10, 20, 50 !\n"
   ]
  },
  {
   "cell_type": "code",
   "execution_count": null,
   "metadata": {},
   "outputs": [
    {
     "name": "stdout",
     "output_type": "stream",
     "text": [
      "30\n",
      "10\n",
      "20\n",
      "50\n"
     ]
    }
   ],
   "source": [
    "print(c4[\"valeur\"])\n",
    "print(c4[\"suivante\"][\"valeur\"])\n",
    "print(c4[\"suivante\"][\"suivante\"][\"valeur\"])\n",
    "print(c4[\"suivante\"][\"suivante\"][\"suivante\"][\"valeur\"])"
   ]
  },
  {
   "cell_type": "markdown",
   "metadata": {},
   "source": [
    "<img src=\"https://cdn.pixabay.com/photo/2018/01/04/16/53/building-3061124_960_720.png\" width=30 align=left><div class=\"alert alert-block alert-danger\">**Exo 6.2 - Affichage par boucle**  \n",
    "Faites la même chose en utilisant une boucle. La boucle doit s'arrêter quand la cellule devient None. Cette boucle doit fonctionner en fait pour toute liste chaînée constituée de cette façon.\n"
   ]
  },
  {
   "cell_type": "code",
   "execution_count": null,
   "metadata": {},
   "outputs": [
    {
     "name": "stdout",
     "output_type": "stream",
     "text": [
      "30\n",
      "10\n",
      "20\n",
      "50\n"
     ]
    }
   ],
   "source": [
    "while c4 is not None:\n",
    "    print(c4[\"valeur\"])\n",
    "    c4 = c4[\"suivante\"]"
   ]
  },
  {
   "cell_type": "code",
   "execution_count": null,
   "metadata": {},
   "outputs": [],
   "source": [
    "c5 = {\n",
    "    \"valeur\": 1,\n",
    "    \"suivante\": {\n",
    "        \"valeur\": 2,\n",
    "        \"suivante\": {\n",
    "            \"valeur\": 3,\n",
    "            \"suivante\": {\n",
    "                \"valeur\": 4, \n",
    "                \"suivante\": {\n",
    "                    \"valeur\": 5, \n",
    "                    \"suivante\": None\n",
    "                    }\n",
    "                },\n",
    "        },\n",
    "    },\n",
    "}"
   ]
  },
  {
   "cell_type": "markdown",
   "metadata": {},
   "source": [
    "<img src=\"https://cdn.pixabay.com/photo/2018/01/04/16/53/building-3061124_960_720.png\" width=30 align=left><div class=\"alert alert-block alert-danger\">**Exo 6.3 - Affichage par boucle 2**  \n",
    "Faites une fonction d'affichage en reprenant le code précédent et vérifiez qu'il fonctionne sur la liste ci-dessus.\n"
   ]
  },
  {
   "cell_type": "code",
   "execution_count": 20,
   "metadata": {},
   "outputs": [
    {
     "name": "stdout",
     "output_type": "stream",
     "text": [
      "1\n",
      "2\n",
      "3\n",
      "4\n",
      "5\n"
     ]
    }
   ],
   "source": [
    "def affiche(c):\n",
    "    while c is not None:\n",
    "        print(c[\"valeur\"])\n",
    "        c = c[\"suivante\"]\n",
    "        \n",
    "affiche(c5)"
   ]
  },
  {
   "cell_type": "markdown",
   "metadata": {},
   "source": [
    "## Listes chaînées : avec des objets !\n",
    "\n",
    "Les dictionnaires ne sont pas très pratique pour manipuler des listes chaînées. On va procéder autrement en utilisant des objets (n'ayez pas peur).\n"
   ]
  },
  {
   "cell_type": "code",
   "execution_count": 21,
   "metadata": {},
   "outputs": [],
   "source": [
    "class Cellule:\n",
    "    def __init__(self, valeur, suivante):\n",
    "        self.valeur = valeur\n",
    "        self.suivante = suivante"
   ]
  },
  {
   "cell_type": "markdown",
   "metadata": {},
   "source": [
    "Le code ci-dessus définit une classe, c'est-à-dire un type d'objets, nommés Cellule.\n",
    "Les termes `class`, `__init__`, `self` sont des termes techniques, on peut en faire abstraction pour l'instant. Tout ce que vous avez besoin savoir se trouve dans l'exemple suivant :\n"
   ]
  },
  {
   "cell_type": "code",
   "execution_count": 22,
   "metadata": {},
   "outputs": [
    {
     "name": "stdout",
     "output_type": "stream",
     "text": [
      "7 3\n",
      "7 12\n"
     ]
    }
   ],
   "source": [
    "# creation d'une cellule contenant la valeur 3 et la suivante None\n",
    "c6 = Cellule(3, None)\n",
    "# creation d'une cellule contenant la valeur 7 et la suivante c6\n",
    "c7 = Cellule(7, c6)\n",
    "# affichage des valeurs depuis c7\n",
    "print(c7.valeur, c7.suivante.valeur)\n",
    "# changer la valeur de c6\n",
    "c6.valeur = 12\n",
    "# affichage des valeurs depuis c7\n",
    "print(c7.valeur, c7.suivante.valeur)"
   ]
  },
  {
   "cell_type": "markdown",
   "metadata": {},
   "source": [
    "Comme vous le voyez, ce n'est pas très différent du cas des dictionnaires mais c'est plus lisible. Une cellule est comme un petit tableau à deux cases auxquelles on accède avec .valeur et .suivant à la suite du nom de la cellule.\n"
   ]
  },
  {
   "cell_type": "markdown",
   "metadata": {},
   "source": [
    "<img src=\"https://cdn.pixabay.com/photo/2018/01/04/16/53/building-3061124_960_720.png\" width=30 align=left><div class=\"alert alert-block alert-danger\">**Exo 6.4 - Redéfinissons**  \n",
    "Redéfinissez la liste chaînée c5 de la partie précédente dans ce nouveau cadre :\n"
   ]
  },
  {
   "cell_type": "code",
   "execution_count": null,
   "metadata": {},
   "outputs": [],
   "source": [
    "\"\"\"\n",
    "c5 = {'valeur' : 1, 'suivante' : \n",
    "         {'valeur' : 2, 'suivante' : \n",
    "             {'valeur' : 3, 'suivante' : \n",
    "                 {'valeur' : 4, 'suivante' : \n",
    "                     {'valeur' : 5, 'suivante' : None}}}}}\n",
    "\"\"\""
   ]
  },
  {
   "cell_type": "code",
   "execution_count": null,
   "metadata": {},
   "outputs": [],
   "source": [
    "# a compléter\n",
    "# c5 = Cellule(1, Cellule(2, ... ))"
   ]
  },
  {
   "cell_type": "code",
   "execution_count": 25,
   "metadata": {},
   "outputs": [],
   "source": [
    "c5 = Cellule(1, Cellule(2, Cellule(3, Cellule(4, Cellule(5, None)))))"
   ]
  },
  {
   "cell_type": "markdown",
   "metadata": {},
   "source": [
    "<img src=\"https://cdn.pixabay.com/photo/2018/01/04/16/53/building-3061124_960_720.png\" width=30 align=left><div class=\"alert alert-block alert-danger\">**Exo 6.5 - On recommence**  \n",
    "Reprenez les exercices 6.1 6.2 et 6.3 dans ce nouveau cadre. Créez à la main des listes chaînées si nécessaire.\n"
   ]
  },
  {
   "cell_type": "code",
   "execution_count": 26,
   "metadata": {},
   "outputs": [
    {
     "name": "stdout",
     "output_type": "stream",
     "text": [
      "30\n",
      "10\n",
      "20\n",
      "50\n"
     ]
    }
   ],
   "source": [
    "c1 = Cellule(50, None)\n",
    "c2 = Cellule(20, c1)\n",
    "c3 = Cellule(10, c2)\n",
    "c4 = Cellule(30, c3)\n",
    "\n",
    "def affiche(c):\n",
    "    while c is not None:\n",
    "        print(c.valeur)\n",
    "        c = c.suivante\n",
    "        \n",
    "affiche(c4)"
   ]
  },
  {
   "cell_type": "markdown",
   "metadata": {},
   "source": []
  },
  {
   "cell_type": "markdown",
   "metadata": {},
   "source": [
    "## Mais c'est quoi en fait une liste chaînée ?\n",
    "\n",
    "Une liste chaînée est soit None, soit une Cellule contenant une valeur, et dont la suivante est elle même None, ou bien une Cellule contenant une valeur, et dont la suivante est elle même None, ou bien une Cellule contenant une valeur, et dont la suivante est elle même None, ou bien une Cellule contenant une valeur, et dont la suivante est elle même None, ou bien une Cellule contenant une valeur, et dont la suivante est elle même None, ou bien une Cellule contenant une valeur, et dont la suivante est elle même None, ou bien une Cellule ... (ça continue encore et encore)\n",
    "dont la suivante est None (faut bien s'arrêter aussi à un moment donné).\n"
   ]
  },
  {
   "cell_type": "markdown",
   "metadata": {},
   "source": [
    "## Création de liste chaînée\n",
    "\n",
    "Vous vous doutez bien qu'on ne va pas créer comme ça à la man les listes chaînées c'est vraiment pénible à écrire. Pour cette raison, vous allez ici écrire un code permettant de convertir un tableau (list) en liste chaînée. Le plus simple est de créer la liste chaînée en inversant d'abord le tableau, à vous de compléter le code.\n"
   ]
  },
  {
   "cell_type": "code",
   "execution_count": 34,
   "metadata": {},
   "outputs": [],
   "source": [
    "def list_vers_LC(maliste):\n",
    "    \"\"\"crée une LC contenant les éléments du tableau maliste\n",
    "    Args:\n",
    "        maliste (list) : tableau à convertir\n",
    "    Returns:\n",
    "        une LC (Cellule ou None)\n",
    "    \"\"\"\n",
    "    inversion = maliste[::-1]  # copie de maliste inversé\n",
    "\n",
    "    LC_en_construction = None  # va contenir la liste crée au fur et à mesure\n",
    "\n",
    "    for x in inversion:\n",
    "        # on crée une Cellule dont la valeur est x et donc la suivante est la liste en construction\n",
    "        x = Cellule(x, LC_en_construction)\n",
    "        # completez\n",
    "        c = Cellule(x, LC_en_construction)\n",
    "\n",
    "        LC_en_construction = c\n",
    "\n",
    "    return LC_en_construction"
   ]
  },
  {
   "cell_type": "code",
   "execution_count": 35,
   "metadata": {},
   "outputs": [
    {
     "data": {
      "text/plain": [
       "<__main__.Cellule at 0x1fa9f922950>"
      ]
     },
     "execution_count": 35,
     "metadata": {},
     "output_type": "execute_result"
    }
   ],
   "source": [
    "list_vers_LC([1, 2, 3, 4, 5])"
   ]
  },
  {
   "cell_type": "markdown",
   "metadata": {},
   "source": [
    "Testez !! Mais comment faire ? Il faudrait faire une fonction d'affichage ? Vous l'avez déjà faire plus haut mais on vous la redonne, pour que cela puisse vous servir de \"modèle\".\n"
   ]
  },
  {
   "cell_type": "code",
   "execution_count": 36,
   "metadata": {},
   "outputs": [],
   "source": [
    "def affichage_LC(cell):\n",
    "    \"\"\"affiche toute la liste chaînée à partir de la cellule donnée\"\"\"\n",
    "    while cell:  # tant que c'est différent de None\n",
    "        print(cell.valeur, end=\" \")\n",
    "        cell = cell.suivante"
   ]
  },
  {
   "cell_type": "markdown",
   "metadata": {},
   "source": [
    "<img src=\"https://cdn.pixabay.com/photo/2018/01/04/16/53/building-3061124_960_720.png\" width=30 align=left><div class=\"alert alert-block alert-danger\">**Exo 6.6**  \n",
    "A l'aide de la fonction de création, créez différentes listes chainées (utilisez list(range()) pour avoir des grandes listes) , et affichez-les ensuite !\n"
   ]
  },
  {
   "cell_type": "code",
   "execution_count": 37,
   "metadata": {},
   "outputs": [
    {
     "name": "stdout",
     "output_type": "stream",
     "text": [
      "<__main__.Cellule object at 0x000001FA9F929F10> <__main__.Cellule object at 0x000001FA9F929990> <__main__.Cellule object at 0x000001FA9F928F50> <__main__.Cellule object at 0x000001FA9F92A610> <__main__.Cellule object at 0x000001FA9F933C50> "
     ]
    }
   ],
   "source": [
    "def affichage_LC_recursive(cell):\n",
    "    \"\"\"affiche toute la liste chaînée à partir de la cellule donnée\"\"\"\n",
    "    if cell:  # si c'est différent de None\n",
    "        print(cell.valeur, end=\" \")\n",
    "        affichage_LC_recursive(cell.suivante)\n",
    "        \n",
    "affichage_LC_recursive(list_vers_LC([1, 2, 3, 4, 5]))"
   ]
  },
  {
   "cell_type": "markdown",
   "metadata": {},
   "source": [
    "<img src=\"https://cdn.pixabay.com/photo/2018/01/04/16/53/building-3061124_960_720.png\" width=30 align=left><div class=\"alert alert-block alert-danger\">**Exo 6.7**  \n",
    "Ecrivez maintenant une fonction qui fait l'inverse... elle prend une liste chaînée et en fait une 'list'\n"
   ]
  },
  {
   "cell_type": "code",
   "execution_count": 21,
   "metadata": {},
   "outputs": [],
   "source": [
    "def LC_vers_list(cell):\n",
    "    \"\"\"convertit toute la liste chaînée à partir de la cellule en un tableau (liste)\n",
    "    Attention : cell peut être une Cellule ou être None\"\"\"\n",
    "    pass"
   ]
  },
  {
   "cell_type": "code",
   "execution_count": null,
   "metadata": {},
   "outputs": [],
   "source": [
    "# testez"
   ]
  },
  {
   "cell_type": "markdown",
   "metadata": {},
   "source": [
    "<img src=\"https://cdn.pixabay.com/photo/2018/01/04/16/53/building-3061124_960_720.png\" width=30 align=left><div class=\"alert alert-block alert-danger\">**Exo 6.8**  \n",
    "Ecrivez une fonction qui renvoie la longueur dune LC c'est à dire son nombre de cellules.\n"
   ]
  },
  {
   "cell_type": "code",
   "execution_count": null,
   "metadata": {},
   "outputs": [],
   "source": []
  },
  {
   "cell_type": "markdown",
   "metadata": {},
   "source": [
    "Vous avez probablement créé la fonction précédente en utilisant une boucle while comme dans le modèle... Mais savez vous qu'on peut le faire récursivement ? Testez et comprenez la fonction suivante :\n"
   ]
  },
  {
   "cell_type": "code",
   "execution_count": null,
   "metadata": {},
   "outputs": [],
   "source": [
    "def longueur_LC_rec(cell):\n",
    "    \"\"\"renvoie le nb de Cellules dans la LC à partir de la cellule donnée\"\"\"\n",
    "    if not cell:  # ou if cell == None\n",
    "        return 0\n",
    "    else:\n",
    "        return 1 + longueur_LC_rec(cell.suivante)"
   ]
  },
  {
   "cell_type": "code",
   "execution_count": null,
   "metadata": {},
   "outputs": [],
   "source": []
  },
  {
   "cell_type": "code",
   "execution_count": null,
   "metadata": {},
   "outputs": [],
   "source": []
  },
  {
   "cell_type": "markdown",
   "metadata": {},
   "source": [
    "<img src=\"https://cdn.pixabay.com/photo/2018/01/04/16/53/building-3061124_960_720.png\" width=30 align=left><div class=\"alert alert-block alert-danger\">**Exo 6.9**  \n",
    "Reprenez les fonctions qui font l'affichage et la conversion en liste, et ... faites-en des versions récursives !\n"
   ]
  },
  {
   "cell_type": "code",
   "execution_count": null,
   "metadata": {},
   "outputs": [],
   "source": []
  },
  {
   "cell_type": "markdown",
   "metadata": {},
   "source": [
    "<img src=\"https://cdn.pixabay.com/photo/2018/01/04/16/53/building-3061124_960_720.png\" width=30 align=left><div class=\"alert alert-block alert-danger\">**Exo 6.10**  \n",
    "Ecrivez des fonctions qui donnent la valeur du k-ième élément d'une liste chaînée (on donne la première cellule et k en paramètres). Si jamais la liste est trop courte, renvoyez None.\n",
    "On a dit \"des\" fonctions car maintenant... il faut faire version itérative... et une version récursive !\n"
   ]
  },
  {
   "cell_type": "code",
   "execution_count": null,
   "metadata": {},
   "outputs": [],
   "source": []
  },
  {
   "cell_type": "markdown",
   "metadata": {},
   "source": [
    "<img src=\"https://cdn.pixabay.com/photo/2018/01/04/16/53/building-3061124_960_720.png\" width=30 align=left><div class=\"alert alert-block alert-danger\">**Exo 6.11**  \n",
    "On a écrit précédemment une fonction de conversion de list en LC qui construisait la LC \"à l'envers\".\n",
    "Essayez maintenant de créer une fonction qui crée la liste chaînée directement dans le bon sens, de la première cellule à la dernière. Testez la validité des chaînes obtenues.\n",
    "Ensuite, faites une version récursive !\n"
   ]
  },
  {
   "cell_type": "code",
   "execution_count": null,
   "metadata": {},
   "outputs": [],
   "source": []
  }
 ],
 "metadata": {
  "colab": {
   "name": "Untitled0.ipynb",
   "provenance": []
  },
  "kernelspec": {
   "display_name": "Python 3",
   "language": "python",
   "name": "python3"
  },
  "language_info": {
   "codemirror_mode": {
    "name": "ipython",
    "version": 3
   },
   "file_extension": ".py",
   "mimetype": "text/x-python",
   "name": "python",
   "nbconvert_exporter": "python",
   "pygments_lexer": "ipython3",
   "version": "3.11.9"
  }
 },
 "nbformat": 4,
 "nbformat_minor": 1
}
