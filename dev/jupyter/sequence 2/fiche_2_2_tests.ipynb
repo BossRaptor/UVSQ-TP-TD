{
 "cells": [
  {
   "cell_type": "markdown",
   "metadata": {},
   "source": [
    "# Spécifications et Tests unitaires<img src=\"https://cdn.pixabay.com/photo/2017/09/07/21/14/sport-2726735_960_720.jpg\" width=400 align=\"right\">  \n",
    "La **spécification** d'une fonction c'est un petit texte qui indique :  \n",
    "- le type de paramètres qu'elle prend en entrée\n",
    "- le travail qu'elle est censée effectuer\n",
    "- ce qu'elle renvoie en sortie"
   ]
  },
  {
   "cell_type": "markdown",
   "metadata": {},
   "source": [
    "Il est d'usage, en python, d'écrire la spécification de la fonction dans un commentaire multi-lignes, juste après le nom de la fonction."
   ]
  },
  {
   "cell_type": "code",
   "execution_count": 1,
   "metadata": {},
   "outputs": [],
   "source": [
    "def cube(x):\n",
    "    \"\"\"\n",
    "    Renvoie le cube d'un nombre.\n",
    "    \n",
    "    Parametres\n",
    "        x : nombre (int, float, etc)\n",
    "    \n",
    "    Retour\n",
    "        nombre, cube de x\n",
    "    \"\"\"\n",
    "    \n",
    "    return x**3"
   ]
  },
  {
   "cell_type": "code",
   "execution_count": 4,
   "metadata": {},
   "outputs": [
    {
     "name": "stdout",
     "output_type": "stream",
     "text": [
      "\n",
      "    Renvoie le cube d'un nombre.\n",
      "    \n",
      "    Parametres\n",
      "        x : nombre (int, float, etc)\n",
      "    \n",
      "    Retour\n",
      "        nombre, cube de x\n",
      "    \n"
     ]
    }
   ],
   "source": [
    "#cette spécification de la fonction ou docstring est lue par python et accessible comme une str\n",
    "print(cube.__doc__)"
   ]
  },
  {
   "cell_type": "code",
   "execution_count": 5,
   "metadata": {},
   "outputs": [
    {
     "name": "stdout",
     "output_type": "stream",
     "text": [
      "Help on function cube in module __main__:\n",
      "\n",
      "cube(x)\n",
      "    Renvoie le cube d'un nombre.\n",
      "\n",
      "    Parametres\n",
      "        x : nombre (int, float, etc)\n",
      "\n",
      "    Retour\n",
      "        nombre, cube de x\n",
      "\n"
     ]
    }
   ],
   "source": [
    "#on peut même appeler à l'aide, ce qui affiche la docstring aussi\n",
    "help(cube)"
   ]
  },
  {
   "cell_type": "markdown",
   "metadata": {},
   "source": [
    "Il est fondamental, quand on veut écrire une fonction, de respecter sa spécification. Il est aussi important, quand on fait un programme, de préciser un minimum la spécification d'une fonction sinon, on ne sait pas ce qu'on fait."
   ]
  },
  {
   "cell_type": "markdown",
   "metadata": {},
   "source": [
    "Une fonction est censée effectuer :  \n",
    "    0. sa spécification  \n",
    "    1. toute sa spécification  \n",
    "    2. rien que sa spécification  "
   ]
  },
  {
   "cell_type": "markdown",
   "metadata": {},
   "source": [
    "En particulier, une fonction :\n",
    "- ne fait pas des input ou des print si ce n'est pas dans la spécification\n",
    "- si elle calcule des résultats, elle les renvoie\n",
    "- elle ne va pas modifier sauvagement les paramètres qu'on lui donne (en particulier les listes) sauf si c'est son travail (une fonction d'insertion/suppression, par exemple)\n",
    "- n'utilise pas de variables globales, les paramètres servent à passer les valeurs sur lesquelles la fonction travaille."
   ]
  },
  {
   "cell_type": "markdown",
   "metadata": {},
   "source": [
    "<img src=\"https://cdn.pixabay.com/photo/2016/10/18/19/40/anatomy-1751201_960_720.png\" width=\"30\" align=left><div class=\"alert alert-block alert-info\"> **A COMPLETER APRES AVOIR TOUT LU CI-DESSUS**"
   ]
  },
  {
   "cell_type": "markdown",
   "metadata": {},
   "source": [
    "**Qu'est-ce que la spécification d'une fonction (résumez) ? :**  \n",
    "\n",
    "**Qu'est-ce qu'une docstring ? :**\n",
    "\n",
    "**Comment peut-on afficher la docstring d'une fonction ? :**\n",
    "\n",
    "**Une fonction devrait-elle effectuer des print ou des input ? :**\n",
    "\n",
    "**Une fonction devrait-elle modifier un paramètre qu'on lui passe, par exemple une liste  ? :**"
   ]
  },
  {
   "cell_type": "markdown",
   "metadata": {},
   "source": [
    "## Assertions"
   ]
  },
  {
   "cell_type": "markdown",
   "metadata": {},
   "source": [
    "L'instruction python `assert` permet de vérifier lors de l'éxecution d'un programme ou d'une fonction, qu'une condition est bien respectée, dans le but de tester et débugger."
   ]
  },
  {
   "cell_type": "code",
   "execution_count": 6,
   "metadata": {},
   "outputs": [],
   "source": [
    "assert 2+2==4"
   ]
  },
  {
   "cell_type": "markdown",
   "metadata": {},
   "source": [
    "Si la condition est validée, rien ne se passe."
   ]
  },
  {
   "cell_type": "code",
   "execution_count": 7,
   "metadata": {},
   "outputs": [
    {
     "ename": "AssertionError",
     "evalue": "",
     "output_type": "error",
     "traceback": [
      "\u001b[1;31m---------------------------------------------------------------------------\u001b[0m",
      "\u001b[1;31mAssertionError\u001b[0m                            Traceback (most recent call last)",
      "Cell \u001b[1;32mIn[7], line 1\u001b[0m\n\u001b[1;32m----> 1\u001b[0m \u001b[38;5;28;01massert\u001b[39;00m \u001b[38;5;241m2\u001b[39m\u001b[38;5;241m+\u001b[39m\u001b[38;5;241m2\u001b[39m\u001b[38;5;241m==\u001b[39m\u001b[38;5;241m5\u001b[39m\n",
      "\u001b[1;31mAssertionError\u001b[0m: "
     ]
    }
   ],
   "source": [
    "assert 2+2==5"
   ]
  },
  {
   "cell_type": "markdown",
   "metadata": {},
   "source": [
    "Si la condition n'est pas validée, l'assertion soulève une erreur et donc interrompt l'exécution. On peut voir ici une `AssertionError`."
   ]
  },
  {
   "cell_type": "code",
   "execution_count": 8,
   "metadata": {},
   "outputs": [
    {
     "ename": "AssertionError",
     "evalue": "la valeur de x (-12) n'est pas positive",
     "output_type": "error",
     "traceback": [
      "\u001b[1;31m---------------------------------------------------------------------------\u001b[0m",
      "\u001b[1;31mAssertionError\u001b[0m                            Traceback (most recent call last)",
      "Cell \u001b[1;32mIn[8], line 2\u001b[0m\n\u001b[0;32m      1\u001b[0m x \u001b[38;5;241m=\u001b[39m \u001b[38;5;241m-\u001b[39m \u001b[38;5;241m12\u001b[39m\n\u001b[1;32m----> 2\u001b[0m \u001b[38;5;28;01massert\u001b[39;00m x \u001b[38;5;241m>\u001b[39m \u001b[38;5;241m0\u001b[39m, \u001b[38;5;124m\"\u001b[39m\u001b[38;5;124mla valeur de x (\u001b[39m\u001b[38;5;124m\"\u001b[39m \u001b[38;5;241m+\u001b[39m \u001b[38;5;28mstr\u001b[39m(x) \u001b[38;5;241m+\u001b[39m \u001b[38;5;124m\"\u001b[39m\u001b[38;5;124m) n\u001b[39m\u001b[38;5;124m'\u001b[39m\u001b[38;5;124mest pas positive\u001b[39m\u001b[38;5;124m\"\u001b[39m\n",
      "\u001b[1;31mAssertionError\u001b[0m: la valeur de x (-12) n'est pas positive"
     ]
    }
   ],
   "source": [
    "x = - 12\n",
    "assert x > 0, \"la valeur de x (\" + str(x) + \") n'est pas positive\""
   ]
  },
  {
   "cell_type": "markdown",
   "metadata": {},
   "source": [
    "Comme ci-dessus, on peut écrire une `str` après l'assertion, qui va s'afficher si l'assertion n'est pas respectée afin de nous donner davantage d'informations."
   ]
  },
  {
   "cell_type": "markdown",
   "metadata": {},
   "source": [
    "<img src=\"https://cdn.pixabay.com/photo/2018/01/04/16/53/building-3061124_960_720.png\" width=30 align=left><div class=\"alert alert-block alert-danger\">**Exo 2.-1 - pour commencer**"
   ]
  },
  {
   "cell_type": "markdown",
   "metadata": {},
   "source": [
    "Dans le code ci-dessous, nous vous fournissons une fonction qui retire l'élément d'une liste se trouvant en position 3.  \n",
    "A vous de compléter la fonction de test afin de vérifier la solidité de cette fonction."
   ]
  },
  {
   "cell_type": "code",
   "execution_count": 14,
   "metadata": {},
   "outputs": [],
   "source": [
    "def popPos3(l):\n",
    "    \"\"\"\n",
    "    renvoie la liste fournie en entrée, à laquelle on a oté l'élément se trouvant en position 3\n",
    "    \n",
    "    Paramètres:\n",
    "        l: une liste\n",
    "        \n",
    "    Retour:\n",
    "        la liste à laquelle on a oté l'élément se trouvant en position 3, s'il existe\n",
    "        sinon la liste telle quelle\n",
    "        si l n'est pas une liste, la fonction renvoie None\"\"\"\n",
    "    if type(l)!=list:\n",
    "        return None\n",
    "    if len(l)<4:\n",
    "        return l\n",
    "    l.pop(3)\n",
    "    return l\n",
    "\n",
    "def test_popPos3():\n",
    "    assert popPos3([12,14,18,15,16,19,18,17]) == [12,14,18,16,19,18,17], \"la troisième valeur n'a pas été otée\"\n",
    "    \n",
    "test_popPos3()"
   ]
  },
  {
   "cell_type": "markdown",
   "metadata": {},
   "source": [
    "<img src=\"https://cdn.pixabay.com/photo/2018/01/04/16/53/building-3061124_960_720.png\" width=30 align=left><div class=\"alert alert-block alert-danger\">**Exo 2.0 - premier exemple**"
   ]
  },
  {
   "cell_type": "markdown",
   "metadata": {},
   "source": [
    "Examinez bien le code ci-dessous.  \n",
    "La docstring ainsi que le test vous fournit tout ce qu'il faut savoir pour écrire la fonction.  \n",
    "A vous de compléter la fonction (effacez l'instruction `pass` ) pour que le test ne fasse plus d'erreur."
   ]
  },
  {
   "cell_type": "code",
   "execution_count": 15,
   "metadata": {},
   "outputs": [],
   "source": [
    "#fonction à compléter, le test est prêt\n",
    "def somme_valant_n(tab,n):\n",
    "    \"\"\"\n",
    "    détermine si le tableau contient deux entrées (indices différents) dont la somme fait n\n",
    "    renvoie faux si le tableau est de taille 1 ou moins\n",
    "    \n",
    "    Parametres\n",
    "        tab: un tableau de nombres\n",
    "        n: un nombre\n",
    "    \n",
    "    Retour\n",
    "        bool\n",
    "    \"\"\"\n",
    "    \n",
    "    if len(tab) < 2:\n",
    "        return False\n",
    "    \n",
    "    for i in range(len(tab)):\n",
    "        for j in range(i+1,len(tab)):\n",
    "            if tab[i]+tab[j] == n:\n",
    "                return True\n",
    "    return False\n",
    "\n",
    "def test_somme():\n",
    "    #trop petits\n",
    "    assert somme_valant_n([], 4) == False\n",
    "    assert somme_valant_n([1], 4) == False\n",
    "    #basiques\n",
    "    assert somme_valant_n([1,2], 3) == True\n",
    "    assert somme_valant_n([1,2], 4) == False\n",
    "    #deux solutions ou plus\n",
    "    assert somme_valant_n([5,2,3,1,6,3], 8) == True\n",
    "    assert somme_valant_n([0,2,0,2,2,0], 4) == True\n",
    "    #long sans solution\n",
    "    assert somme_valant_n(list(range(50)), 150) == False\n",
    "    #entrees identiques cases distinctes\n",
    "    assert somme_valant_n([0,3,3,0], 6) == True\n",
    "    #cases identiques\n",
    "    assert somme_valant_n([0,3,0], 6) == False"
   ]
  },
  {
   "cell_type": "code",
   "execution_count": 16,
   "metadata": {},
   "outputs": [],
   "source": [
    "test_somme()"
   ]
  },
  {
   "cell_type": "markdown",
   "metadata": {},
   "source": [
    "<img src=\"https://cdn.pixabay.com/photo/2018/01/04/16/53/building-3061124_960_720.png\" width=30 align=left><div class=\"alert alert-block alert-danger\">**Exo 2.1 - à vous le test**  "
   ]
  },
  {
   "cell_type": "markdown",
   "metadata": {},
   "source": [
    "2.1.0 - A vous de compléter la fonction, sans utiliser les fonctions python `max` et `min` bien entendu."
   ]
  },
  {
   "cell_type": "code",
   "execution_count": 28,
   "metadata": {},
   "outputs": [
    {
     "data": {
      "text/plain": [
       "17"
      ]
     },
     "execution_count": 28,
     "metadata": {},
     "output_type": "execute_result"
    }
   ],
   "source": [
    "def max_plus_min(tab):\n",
    "    \"\"\"\n",
    "    calcule la somme du minimum et du maximum du tableau, en un seul passage dans le tableau\n",
    "    (erreur si le tableau est vide)\n",
    "    \n",
    "    Parametres\n",
    "        tab: un tableau de nombres\n",
    "    \n",
    "    Retour\n",
    "        nombre\n",
    "    \"\"\"\n",
    "    \n",
    "    max = 0\n",
    "    min = tab[0]\n",
    "    for i in tab:\n",
    "        if i > max:\n",
    "            max = i\n",
    "        if i < min:\n",
    "            min = i\n",
    "            \n",
    "    return max + min\n",
    "\n",
    "max_plus_min([15, 12, 3, 1, 5, 7, 8, 9, 10, 11, 12, 13, 14, 16])"
   ]
  },
  {
   "cell_type": "markdown",
   "metadata": {},
   "source": [
    "2.1.1 - complétez la fonction de test en pensant à essayer divers cas qui peuvent se produire, en utilisant des assertions.  \n",
    "Puis exécutez la fonction de test !"
   ]
  },
  {
   "cell_type": "code",
   "execution_count": 31,
   "metadata": {},
   "outputs": [],
   "source": [
    "def test_max_plus_min():\n",
    "    assert max_plus_min([15, 12, 3, 1, 5, 7, 8, 9, 10, 11, 12, 13, 14, 16]) == 17\n",
    "    assert max_plus_min([20,15,48,95,84,62,12,54,84,71,12]) == max([20,15,48,95,84,62,12,54,84,71,12]) + min([20,15,48,95,84,62,12,54,84,71,12])\n",
    "    \n",
    "test_max_plus_min()"
   ]
  },
  {
   "cell_type": "markdown",
   "metadata": {},
   "source": [
    "2.1.2 - pour tester sur des autres cas, on peut comparer avec le résultat obtenu par `min(tab) + max(tab)`. On peut aussi utiliser la generation aléatoire de tableau. On procède ainsi :"
   ]
  },
  {
   "cell_type": "code",
   "execution_count": 706,
   "metadata": {},
   "outputs": [
    {
     "name": "stdout",
     "output_type": "stream",
     "text": [
      "[88, 36, 92, 96, 89, 2, 27, 19, 49, 84, 37, 92, 61, 2, 51, 44, 28, 32, 33, 34, 42, 27, 37, 67, 74, 28, 51, 62, 61, 28, 57, 7, 74, 65, 7, 6, 64, 0, 48, 40, 15, 90, 100, 99, 44, 98, 60, 17, 37, 92, 34, 61, 48, 41, 88, 12, 52, 21, 56, 94, 47, 98, 30, 58, 35, 67, 2, 58, 38, 16, 37, 27, 61, 55, 72, 93, 47, 61, 26, 100, 13, 14, 21, 45, 45, 23, 19, 1, 36, 3, 36, 61, 76, 58, 26, 6, 72, 78, 23, 53, 9, 47, 42, 3, 83, 11, 22, 93, 93, 12, 91, 92, 63, 10, 97, 88, 80, 51, 21, 66, 67, 21, 88, 88, 89, 73, 51, 100, 97, 84, 11, 30, 53, 7, 24, 57, 4, 90, 86, 64, 41, 47, 14, 34, 86, 49, 74, 51, 43, 98, 39, 64, 53, 30, 54, 35, 65, 90, 95, 76, 45, 21, 99, 60, 56, 38, 31, 34, 60, 81, 0, 0, 21, 35, 24, 32, 64, 99, 39, 80, 20, 3, 83, 21, 41, 26, 90, 66, 71, 55, 22, 55, 43, 20, 43, 30, 31, 75, 61, 96, 70, 29, 16, 81, 72, 43, 20, 46, 67, 63, 46, 74, 70, 44, 30, 20, 43, 44, 22, 42, 41, 42, 18, 56, 25, 1, 29, 98, 43, 68, 31, 20, 87, 46, 43, 32, 44, 14, 92, 23, 48, 60, 92, 36, 61, 98, 4, 37, 14, 97, 73, 59, 17, 23, 61, 88, 30, 97, 20, 52, 55, 28, 11, 5, 79, 93, 2, 86, 31, 43, 60, 7, 19, 0, 32, 79, 52, 66, 6, 85, 19, 71, 73, 53, 46, 8, 7, 36, 40, 45, 83, 25, 42, 78, 74, 5, 81, 61, 19, 4, 75, 67, 72, 72, 92, 36, 68, 66, 78, 31, 30, 83, 49, 10, 69, 33, 89, 94, 25, 78, 22, 34, 76, 96, 62, 63, 72, 13, 47, 32, 81, 86, 63, 2, 35, 87, 94, 1, 39, 5, 55, 32, 17, 27, 1, 84, 84, 84, 42, 31, 97, 13, 90, 8, 87, 72, 56, 94, 95, 20, 15, 40, 16, 63, 46, 59, 81, 50, 82, 91, 88, 37, 0, 95, 15, 36, 11, 100, 44, 98, 29, 15, 79, 90, 95, 42, 28, 35, 80, 19, 83, 87, 59, 43, 73, 85, 61, 77, 20, 71, 22, 86, 64, 63, 79, 6, 13, 3, 99, 84, 23, 97, 35, 74, 42, 16, 76, 25, 77, 79, 62, 3, 2, 44, 23, 56, 2, 53, 79, 78, 7, 87, 24, 99, 20, 72, 66, 50, 7, 30, 43, 15, 75, 53, 23, 1, 15, 33, 89, 15, 26, 43, 71, 64, 36, 27, 33, 50, 46, 24, 60, 7, 99, 78, 20, 54, 93, 54, 26, 73, 70, 44, 31, 31, 24, 29, 82, 26, 47, 6, 46, 37, 67, 79, 74, 48, 71, 30, 47, 41, 61, 57, 53, 29, 49, 25, 39, 33, 88, 30]\n",
      "100\n"
     ]
    }
   ],
   "source": [
    "import random\n",
    "t = [random.randint(0,100) for i in range(500)]\n",
    "somme = max(t) + min(t)\n",
    "print(t)\n",
    "print(somme)\n"
   ]
  },
  {
   "cell_type": "markdown",
   "metadata": {},
   "source": [
    "Utilisez ce principe pour générer des tableaux aléatoires de diverses tailles et tester à nouveau le résultat de votre fonction `max_plus_min`."
   ]
  },
  {
   "cell_type": "code",
   "execution_count": 768,
   "metadata": {},
   "outputs": [],
   "source": [
    "def test_max_plus_min_random():\n",
    "    taille = random.randint(15,20)\n",
    "    l=[]\n",
    "    for i in range(taille):\n",
    "        l.append(random.randint(0,100))\n",
    "        \n",
    "    return l\n",
    "\n",
    "def assert_test_max_plus_min_random(tab):\n",
    "    assert max_plus_min(tab) == max(tab) + min(tab), \"La fonction est incorrecte\"\n",
    "    \n",
    "assert_test_max_plus_min_random(test_max_plus_min_random())"
   ]
  },
  {
   "cell_type": "markdown",
   "metadata": {},
   "source": [
    "<img src=\"https://cdn.pixabay.com/photo/2018/01/04/16/53/building-3061124_960_720.png\" width=30 align=left><div class=\"alert alert-block alert-danger\">**Exo 2.2 - bissextile**  "
   ]
  },
  {
   "cell_type": "markdown",
   "metadata": {},
   "source": [
    "Maintenant, pour chacun des exercices :   \n",
    "\n",
    "0. donnez à votre fonction un nom intelligent et écrivez les spécifications suivies de `pass`\n",
    "1. écrivez **les tests avant la fonction** !\n",
    "2. écrivez enfin la fonction  et testez. \n",
    "\n",
    "C'est ce qu'on appelle le **développement guidé par les tests**.  \n",
    "N'oubliez pas de tester sur des cas limites, des cas petits, des cas moyens ou grands, essayez de prévoir les différents types d'erreurs qui pourraient se présenter."
   ]
  },
  {
   "cell_type": "markdown",
   "metadata": {},
   "source": [
    "Dans l'exercice **bissextile**, il s'agit de renvoyer un booléen indiquant si une année est bissextile. Pour rappel il s'agit des années qui sont multiples de 4, mais qui ne sont pas multiples de 100, ou alors qui sont multiples de 400."
   ]
  },
  {
   "cell_type": "code",
   "execution_count": 771,
   "metadata": {},
   "outputs": [
    {
     "data": {
      "text/plain": [
       "True"
      ]
     },
     "execution_count": 771,
     "metadata": {},
     "output_type": "execute_result"
    }
   ],
   "source": [
    "def bissextile(annee):\n",
    "    \"\"\"\n",
    "    Cette fonction prend un argument \"annee\" et renvoie True si l'année est bissextile, False sinon.\n",
    "    \n",
    "    Paramètres:\n",
    "        annee: un entier\n",
    "    \n",
    "    Return:\n",
    "        bool\n",
    "    \"\"\"\n",
    "    if annee % 4 == 0:\n",
    "        if annee % 100 == 0 or annee % 400 == 0:\n",
    "            return False\n",
    "        else:\n",
    "            return True\n",
    "\n",
    "def test_bissextile():\n",
    "    assert bissextile(1900) == False\n",
    "    assert bissextile(2100) == False\n",
    "    assert bissextile(2100) == False\n",
    "    assert bissextile(2200) == False\n",
    "    assert bissextile(2300) == False\n",
    "    assert bissextile(2500) == False\n",
    "    assert bissextile(2600) == False\n",
    "    assert bissextile(2700) == False\n",
    "    assert bissextile(2900) == False\n",
    "    assert bissextile(3000) == False\n",
    "    assert bissextile(2308) == True\n",
    "    assert bissextile(2312) == True\n",
    "    assert bissextile(2316) == True\n",
    "    assert bissextile(2320) == True\n",
    "    assert bissextile(2324) == True\n",
    "    assert bissextile(2328) == True\n",
    "    assert bissextile(2332) == True\n",
    "    assert bissextile(2336) == True\n",
    "    assert bissextile(2340) == True\n",
    "    \n",
    "test_bissextile()"
   ]
  },
  {
   "cell_type": "markdown",
   "metadata": {},
   "source": [
    "<img src=\"https://cdn.pixabay.com/photo/2018/01/04/16/53/building-3061124_960_720.png\" width=30 align=left><div class=\"alert alert-block alert-danger\">**Exo 2.3 - à demain**  "
   ]
  },
  {
   "cell_type": "markdown",
   "metadata": {},
   "source": [
    "Toujours en suivant le même principe de dev guidé par les tests, écrivez une fonction qui à partir d'une date sous la forme `[3,12,2017]`, va renvoyer la date du lendemain. Attention, il faut tenir compte des années bissextiles. Essayez de faire au plus efficace sans écrire 50 `if` à la suite !"
   ]
  },
  {
   "cell_type": "code",
   "execution_count": 773,
   "metadata": {},
   "outputs": [],
   "source": [
    "def next_year(date):\n",
    "    \"\"\"\n",
    "    Cette fonction prend une date au format \"jj,mm,yyy\" et renvoie la date du lendemain en prenant en compte les années bissextiles.\n",
    "    \n",
    "    Paramètres:\n",
    "        date: list au format [jj,mm,yyy]\n",
    "        \n",
    "    Return:\n",
    "        list du lendemain au format [jj,mm,yyy]\n",
    "    \"\"\"\n",
    "    if date[1] in [1,3,5,7,8,10,12]:\n",
    "        if date[0] == 31:\n",
    "            if date[1] == 12:\n",
    "                return [1,1,date[2]+1]\n",
    "            else:\n",
    "                return [1,date[1]+1,date[2]]\n",
    "        else:\n",
    "            return [date[0]+1,date[1],date[2]]\n",
    "    elif date[1] in [4,6,9,11]:\n",
    "        if date[0] == 30:\n",
    "            return [1,date[1]+1,date[2]]\n",
    "        else:\n",
    "            return [date[0]+1,date[1],date[2]]\n",
    "    else:\n",
    "        if bissextile(date[2]):\n",
    "            if date[0] == 29:\n",
    "                return [1,3,date[2]]\n",
    "            else:\n",
    "                return [date[0]+1,date[1],date[2]]\n",
    "        else:\n",
    "            if date[0] == 28:\n",
    "                return [1,3,date[2]]\n",
    "            else:\n",
    "                return [date[0]+1,date[1],date[2]]\n",
    "\n",
    "def test_next_year():\n",
    "    assert next_year([31,12,2020]) == [1,1,2021]\n",
    "    assert next_year([28,2,2020]) == [29,2,2020]\n",
    "    assert next_year([28,2,2021]) == [1,3,2021]\n",
    "    \n",
    "test_next_year()"
   ]
  },
  {
   "cell_type": "markdown",
   "metadata": {},
   "source": [
    "<img src=\"https://cdn.pixabay.com/photo/2018/01/04/16/53/building-3061124_960_720.png\" width=30 align=left><div class=\"alert alert-block alert-danger\">**Exo 2.4 - combien de jours**  "
   ]
  },
  {
   "cell_type": "markdown",
   "metadata": {},
   "source": [
    "Combien de jours séparent une date 1 d'une date 2 ? A vous de faire une fonction qui répond à la question."
   ]
  },
  {
   "cell_type": "code",
   "execution_count": 775,
   "metadata": {},
   "outputs": [
    {
     "name": "stdout",
     "output_type": "stream",
     "text": [
      "0\n"
     ]
    }
   ],
   "source": [
    "def diff_jour(date1, date2):\n",
    "    \"\"\"\n",
    "    Cette fonction permet de savoir combien de jours séparent deux dates.\n",
    "    \n",
    "    Paramètre:\n",
    "        date1: list au format [jj,mm,yyy]\n",
    "        date2: list au format [jj,mm,yyy]\n",
    "    \n",
    "    Return:\n",
    "        int, nombre de jours séparant les deux dates\n",
    "    \"\"\"\n",
    "    if type(date1) != list or type(date2) != list:\n",
    "        return None\n",
    "    \n",
    "    nbJours = 0\n",
    "    date1 = [date1[2],date1[1],date1[0]]\n",
    "    date2 = [date2[2],date2[1],date2[0]]\n",
    "    \n",
    "    diff = date2[0] - date1[0]\n",
    "    nbJours += diff\n",
    "    \n",
    "    print(nbJours)\n",
    "    \n",
    "diff_jour([15,10,2024],[19,10,2024])\n",
    "\n",
    "def test_diff_jour():\n",
    "    assert diff_jour([15,10,2024],[19,10,2024]) == 4\n",
    "    assert diff_jour([15,10,2024],[15,10,2024]) == 0\n",
    "    assert diff_jour([15,10,2024],[15,10,2025]) == 365\n",
    "    assert diff_jour([15,10,2024],[15,10,2026]) == 730\n",
    "    assert diff_jour([15,10,2024],[15,10,2027]) == 1095"
   ]
  },
  {
   "cell_type": "markdown",
   "metadata": {},
   "source": [
    "<img src=\"https://cdn.pixabay.com/photo/2018/01/04/16/53/building-3061124_960_720.png\" width=30 align=left><div class=\"alert alert-block alert-danger\">**Exo 2.5 - rendez-vous**  "
   ]
  },
  {
   "cell_type": "markdown",
   "metadata": {},
   "source": [
    "Dans l'exercice **rendez-vous**, la fonction à écrire prend deux temps t1 et t2, en minutes, où deux personnes vont arriver à un rendez-vous (par exemple, on pourrait convenir que t1=122 signifie que la personne arrive à midi plus 122 minutes soit 14h02). Pour chaque personne, on donne également un temps d'attente a1 et a2 qui désigne le temps que chaque personne va attendre au lieu de rendez-vous avant de repartir. La fonction doit renvoyer un booléen indiquant si les deux personnes vont se rencontrer ou non.  \n",
    "Par exemple, pour t1=20, t2 = 40, si a1 = 30 alors ils vont se croiser, mais si a1 = 10 ça ne sera pas le cas. Attention, les valeurs de t1,t2, a1 et a2 peuvent être dans un ordre quelconque. Pensez à utiliser les fonctions natives `max`, `min`, `abs`."
   ]
  },
  {
   "cell_type": "code",
   "execution_count": null,
   "metadata": {},
   "outputs": [],
   "source": []
  },
  {
   "cell_type": "markdown",
   "metadata": {},
   "source": [
    "<img src=\"https://cdn.pixabay.com/photo/2018/01/04/16/53/building-3061124_960_720.png\" width=30 align=left><div class=\"alert alert-block alert-danger\">**Exo 2.6 - occurrences**  "
   ]
  },
  {
   "cell_type": "markdown",
   "metadata": {},
   "source": [
    "Ecrivez une fonction qui renvoie un dictionnaire des occurences dans une liste d'entiers. Par exemple, si la liste en entrée est `[3,2,5,4,4,3,3]`, la fonction devra renvoyer un dictionnaire `{2:1, 3:3, 4:2, 5:1}`.   \n",
    " "
   ]
  },
  {
   "cell_type": "code",
   "execution_count": null,
   "metadata": {},
   "outputs": [],
   "source": []
  },
  {
   "cell_type": "markdown",
   "metadata": {},
   "source": [
    "<img src=\"https://cdn.pixabay.com/photo/2018/01/04/16/53/building-3061124_960_720.png\" width=30 align=left><div class=\"alert alert-block alert-danger\">**Exo 2.7 - majorité** "
   ]
  },
  {
   "cell_type": "markdown",
   "metadata": {},
   "source": [
    "Même exercice (et surtout, écrire les tests avant d'écrire la fonction !) pour une fonction qui, à partir d'une liste d'entiers, va renvoyer la liste des éléments qui apparaissent le plus de fois. On peut utiliser la fonction précédente dans cette fonction, ainsi que des méthodes ou fonctions natives, tout en faisant attention à ne pas faire quelque chose de trop complexe en termes algorithmiques.  \n",
    "Par exemple, la liste des éléments qui apparaissent le plus de fois dans `[0,6,2,1,0,5,2,3]` est `[0,2]`, qui apparaissentr deux fois chacun."
   ]
  },
  {
   "cell_type": "code",
   "execution_count": null,
   "metadata": {},
   "outputs": [],
   "source": []
  },
  {
   "cell_type": "markdown",
   "metadata": {},
   "source": [
    "<img src=\"https://cdn.pixabay.com/photo/2018/01/04/16/53/building-3061124_960_720.png\" width=30 align=left><div class=\"alert alert-block alert-danger\">**Exo 2.8 - intersection croissante**"
   ]
  },
  {
   "cell_type": "markdown",
   "metadata": {},
   "source": [
    "Même exercice (et surtout, écrire les tests avant d'écrire la fonction !) pour une fonction qui, à partir de deux listes strictement croissantes, renvoie une nouvelle liste strictement croissante qui contient les éléments qui sont dans les deux listes.  \n",
    "**Interdiction d'utiliser les sets (solution très gourmande algorithmiquement)**"
   ]
  },
  {
   "cell_type": "code",
   "execution_count": null,
   "metadata": {},
   "outputs": [],
   "source": []
  },
  {
   "cell_type": "markdown",
   "metadata": {},
   "source": [
    "<img src=\"https://cdn.pixabay.com/photo/2018/01/04/16/53/building-3061124_960_720.png\" width=30 align=left><div class=\"alert alert-block alert-danger\">**Exo 2.9 - union croissante**  "
   ]
  },
  {
   "cell_type": "markdown",
   "metadata": {},
   "source": [
    "Même chose avec l'union, on veut renvoyer une nouvelle liste strictement croissante qui contient les éléments qui sont dans au moins une des deux listes. N'oubliez pas la spécification et les tests !\n",
    "**Interdiction d'utiliser les sets (solution très gourmande algorithmiquement)**"
   ]
  },
  {
   "cell_type": "code",
   "execution_count": null,
   "metadata": {},
   "outputs": [],
   "source": []
  }
 ],
 "metadata": {
  "kernelspec": {
   "display_name": "Python 3",
   "language": "python",
   "name": "python3"
  },
  "language_info": {
   "codemirror_mode": {
    "name": "ipython",
    "version": 3
   },
   "file_extension": ".py",
   "mimetype": "text/x-python",
   "name": "python",
   "nbconvert_exporter": "python",
   "pygments_lexer": "ipython3",
   "version": "3.12.5"
  }
 },
 "nbformat": 4,
 "nbformat_minor": 4
}
