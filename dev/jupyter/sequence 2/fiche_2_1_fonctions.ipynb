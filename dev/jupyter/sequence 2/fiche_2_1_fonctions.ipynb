{
 "cells": [
  {
   "cell_type": "markdown",
   "metadata": {
    "id": "cjDU4EhlsPk6"
   },
   "source": [
    " <img src=\"https://cdn.pixabay.com/photo/2017/09/25/11/55/fittings-2784902_960_720.jpg\" align=right width=\"400\">  \n",
    " \n",
    "# Les fonctions\n",
    "Certain.e.s d'entre-vous ont déjà manipulé les fonctions en python. Elles permettent de factoriser son code, de créer de petite entités de code capables de fournir un résultat précis.  \n",
    "*Exemple: une fonction qui indique si un nombre est premier ou pas.*\n",
    "\n",
    "**TRES IMPORTANT**\n",
    "Les fonctions sont caractérisées par :\n",
    "  * des données qui leur sont fournies en entrée et \"nourrissent\" la fonction: **les paramètres**\n",
    "  * des données qu'elles retournent en sortie: **les valeurs de retour**\n",
    "\n",
    "*Imaginons par exemple une fonction qui calcule la somme des éléments d'une liste:*  \n",
    "  * *elle recevra en paramètre une liste*\n",
    "  * *elle renverra une valeur numérique*"
   ]
  },
  {
   "cell_type": "markdown",
   "metadata": {
    "id": "_X9mT53cs_5b"
   },
   "source": [
    "## Définition d'une fonction\n",
    "Le mot clé permettant de créer une fonction est `def`. Il indique le début d'une fonction, dont le code devra ensuite être indenté.  \n",
    "Voyons une fonction `plusUn` qui reçoit un entier `n` et renvoie `n+1`:"
   ]
  },
  {
   "cell_type": "code",
   "execution_count": 1,
   "metadata": {
    "colab": {
     "base_uri": "https://localhost:8080/"
    },
    "id": "SgWiQXEIsZPh",
    "outputId": "88df7b8e-5632-46a4-adb7-50b587e68fa5"
   },
   "outputs": [],
   "source": [
    "def plusUn(n):\n",
    "    n += 1\n",
    "    return n"
   ]
  },
  {
   "cell_type": "markdown",
   "metadata": {},
   "source": [
    "A partir de maintenant, la fonction `plusUn` existe et peut être appelée depuis n'importe où dans votre programme. Mais elle ne sera exécutée que quand vous l'aurez appelée. Pour le moment, elle se contente d'exister, on dit qu'elle est **définie**."
   ]
  },
  {
   "cell_type": "markdown",
   "metadata": {},
   "source": [
    "<img src=\"https://cdn.pixabay.com/photo/2016/10/18/19/40/anatomy-1751201_960_720.png\" width=\"30\" align=left><div class=\"alert alert-block alert-info\">**Qu3.0**  \n",
    "L'en-tête (la première ligne) d'une fonction est composé de :  \n",
    " * `def`  \n",
    " * suivi de ...  \n",
    " * puis, entre parenthèses...  \n",
    "\n",
    "Dans une fonction, le mot-clé `return` permet de...\n",
    "</div>"
   ]
  },
  {
   "cell_type": "markdown",
   "metadata": {
    "id": "_X9mT53cs_5b"
   },
   "source": [
    "## Appel d'une fonction\n",
    "Dans l'exemple précédent, nous avons défini la fonction `plusUn`. Mais celle-ci ne sera exécutée que si elle est **appelée**.  \n",
    "Pour réaliser cet appel, on procède de la façon suivante:"
   ]
  },
  {
   "cell_type": "code",
   "execution_count": 2,
   "metadata": {},
   "outputs": [
    {
     "name": "stdout",
     "output_type": "stream",
     "text": [
      "le résultat vous plaît?\n"
     ]
    }
   ],
   "source": [
    "plusUn(12)\n",
    "print(\"le résultat vous plaît?\")"
   ]
  },
  {
   "cell_type": "markdown",
   "metadata": {},
   "source": [
    "**Pourquoi rien ne s'affiche?** Explications fondamentales...  \n",
    " * la fonction `plusUn` a été appelée avec `12`\n",
    " * ce `12` a été **recopié** dans le paramètre `n` de la fonction\n",
    " * puis ce `n` a été augmenté en `13` et **renvoyé vers la ligne d'appel** avec `return`\n",
    " * ...mais il n'a pas été récupéré, ni affiché. Il est donc parti \"dans la nature\"."
   ]
  },
  {
   "cell_type": "markdown",
   "metadata": {},
   "source": [
    "<img src=\"https://cdn.pixabay.com/photo/2018/01/04/16/53/building-3061124_960_720.png\" width=30 align=left><div class=\"alert alert-block alert-danger\">**Exo 3.0 - Récupération de la valeur de retour**  \n",
    "    Appelez à nouveau la fonction avec 12, mais récupérez le résultat renvoyé dans une variable `m` et affichez-le. "
   ]
  },
  {
   "cell_type": "code",
   "execution_count": 3,
   "metadata": {
    "id": "AbprG3TwvB5D"
   },
   "outputs": [
    {
     "name": "stdout",
     "output_type": "stream",
     "text": [
      "13\n"
     ]
    }
   ],
   "source": [
    "m = plusUn(12)\n",
    "print(m)"
   ]
  },
  {
   "cell_type": "markdown",
   "metadata": {},
   "source": [
    "## Mes premières fonctions\n",
    "Essayons d'écrire et d'appeler nos premières fonctions simples..."
   ]
  },
  {
   "cell_type": "markdown",
   "metadata": {},
   "source": [
    "<img src=\"https://cdn.pixabay.com/photo/2018/01/04/16/53/building-3061124_960_720.png\" width=30 align=left><div class=\"alert alert-block alert-danger\">**Exo 3.0bis - Plus un au cube**  \n",
    " * on souhaite incrémenter (ajouter 1 à) la variable `x`. Faites le nécessaire en appelant `plusUn` et en affectant le résultat à `x`. **Possible de le faire en une seule ligne?**  \n",
    " * modifiez votre programme afin que `x` soit maintenant incrémenté puis mis au cube.   "
   ]
  },
  {
   "cell_type": "code",
   "execution_count": 4,
   "metadata": {},
   "outputs": [
    {
     "name": "stdout",
     "output_type": "stream",
     "text": [
      "9\n"
     ]
    }
   ],
   "source": [
    "x = 8\n",
    "x = plusUn(x)\n",
    "print(x)"
   ]
  },
  {
   "cell_type": "markdown",
   "metadata": {},
   "source": [
    "<img src=\"https://cdn.pixabay.com/photo/2018/01/04/16/53/building-3061124_960_720.png\" width=30 align=left><div class=\"alert alert-block alert-danger\">**Exo 3.1 - Double string**  \n",
    "    On souhaite écrire une fonction `dblstr` qui reçoit une chaîne `s`, et renvoie une chaîne contenant la chaîne `s` suivie d'un saut de ligne, répétée une seconde fois avec encore un saut de ligne. **Attention, cette fonction ne fait pas d'affichage!**  \n",
    "    Exemple: `dblstr(\"où est-ce?\")` renverra :  \n",
    "    `où est-ce?`  \n",
    "    `où est-ce?`"
   ]
  },
  {
   "cell_type": "code",
   "execution_count": 5,
   "metadata": {},
   "outputs": [
    {
     "ename": "NameError",
     "evalue": "name 'dblstr' is not defined",
     "output_type": "error",
     "traceback": [
      "\u001b[1;31m---------------------------------------------------------------------------\u001b[0m",
      "\u001b[1;31mNameError\u001b[0m                                 Traceback (most recent call last)",
      "Cell \u001b[1;32mIn[5], line 1\u001b[0m\n\u001b[1;32m----> 1\u001b[0m \u001b[43mdblstr\u001b[49m(\u001b[38;5;124m\"\u001b[39m\u001b[38;5;124mou est-ce\u001b[39m\u001b[38;5;124m\"\u001b[39m)\n",
      "\u001b[1;31mNameError\u001b[0m: name 'dblstr' is not defined"
     ]
    }
   ],
   "source": [
    "def dbltstr(s):\n",
    "    return s + s"
   ]
  },
  {
   "cell_type": "markdown",
   "metadata": {},
   "source": [
    "<img src=\"https://cdn.pixabay.com/photo/2018/01/04/16/53/building-3061124_960_720.png\" width=30 align=left><div class=\"alert alert-block alert-danger\">**Exo 3.2 - Blablabla**  \n",
    "    Créez une fonction `blabla` qui reçoit un entier `n` et renvoie une chaîne `\"blablabla...\"` où `bla` est répété `n` fois.  \n",
    "    **Attention, cette fonction ne fait pas d'affichage!**  \n",
    "    Appelez cette fonction avec `5` et affichez le résutat. Essayez avec `0`."
   ]
  },
  {
   "cell_type": "code",
   "execution_count": 8,
   "metadata": {},
   "outputs": [
    {
     "name": "stdout",
     "output_type": "stream",
     "text": [
      "blablablablabla\n",
      "\n"
     ]
    }
   ],
   "source": [
    "def blabla(n):\n",
    "    print(\"bla\"*n)\n",
    "    \n",
    "blabla(5)\n",
    "blabla(0)"
   ]
  },
  {
   "cell_type": "markdown",
   "metadata": {},
   "source": [
    "<img src=\"https://cdn.pixabay.com/photo/2018/01/04/16/53/building-3061124_960_720.png\" width=30 align=left><div class=\"alert alert-block alert-danger\">**Exo 3.3 - Repeat**  \n",
    "    On souhaite cette fois créer une fonction `repeat` qui reçoit un entier `n` **et** une chaîne `s`, et qui renvoie la chaîne `s` répétée `n` fois.  \n",
    "    Appelez cette fonction avec `1` et `\"bla\"`, puis avec `8` et `\"gouzi\"`.     **Attention, cette fonction ne fait pas d'affichage!**  \n"
   ]
  },
  {
   "cell_type": "code",
   "execution_count": 29,
   "metadata": {},
   "outputs": [
    {
     "name": "stdout",
     "output_type": "stream",
     "text": [
      "bla\n",
      "gouzigouzigouzigouzigouzigouzigouzigouzi\n"
     ]
    }
   ],
   "source": [
    "def repeat(n, s):\n",
    "    s = s*n\n",
    "    return s\n",
    "\n",
    "print(repeat(1,\"bla\"))\n",
    "print(repeat(8,\"gouzi\"))"
   ]
  },
  {
   "cell_type": "markdown",
   "metadata": {},
   "source": [
    "<img src=\"https://cdn.pixabay.com/photo/2018/01/04/16/53/building-3061124_960_720.png\" width=30 align=left><div class=\"alert alert-block alert-danger\">**Exo 3.4 - Composition**  \n",
    "Essayez :\n",
    " * d'appeler `repeat` avec `3` et `\"tarata\"`  \n",
    " * de récupérer le résultat obtenu dans une variable `s`  \n",
    " * de rappeler `repeat` avec `5` et le `s` obtenu précédemment (vous devez logiquement obtenir 15 fois `\"tarata\"`)  \n",
    "    \n",
    "**Maintenant, effectuez la même opération en une seule ligne.**"
   ]
  },
  {
   "cell_type": "code",
   "execution_count": 17,
   "metadata": {},
   "outputs": [
    {
     "name": "stdout",
     "output_type": "stream",
     "text": [
      "taratataratataratataratataratataratataratataratataratataratataratataratataratataratatarata\n",
      "taratataratataratataratataratataratataratataratataratataratataratataratataratataratatarata\n"
     ]
    }
   ],
   "source": [
    "s2 = repeat(3, \"tarata\")\n",
    "print(repeat(5,s2))\n",
    "\n",
    "print(repeat(5, repeat(3,\"tarata\")))"
   ]
  },
  {
   "cell_type": "markdown",
   "metadata": {},
   "source": [
    "<img src=\"https://cdn.pixabay.com/photo/2018/01/04/16/53/building-3061124_960_720.png\" width=30 align=left><div class=\"alert alert-block alert-danger\">**Exo 3.5 - Multi-retour**  \n",
    "En python, on peut retourner plusieurs valeurs (comme lors des affectations `a,b=1,2`).  \n",
    "Ecrivez une fonction `maxImax` qui reçoit une liste et renvoie son maximum **et** l'indice de son maximum.  \n",
    "**Vous veillerez à traiter tous les cas particuliers possibles.**"
   ]
  },
  {
   "cell_type": "code",
   "execution_count": 19,
   "metadata": {},
   "outputs": [
    {
     "name": "stdout",
     "output_type": "stream",
     "text": [
      "(9, 8)\n"
     ]
    }
   ],
   "source": [
    "def maxImax(l):\n",
    "    if len(l) == 0:\n",
    "        return \"Ceci n'est pas une liste\"\n",
    "    m = max(l)\n",
    "    index = l.index(m)\n",
    "    return m, index\n",
    "\n",
    "liste = [1, 2, 3, 4, 5, 6, 7, 8, 9]\n",
    "print(maxImax(liste))"
   ]
  },
  {
   "cell_type": "markdown",
   "metadata": {},
   "source": [
    "## Portée des variables\n",
    "Les variables ont des portées: elles existent dans certains contextes (dans telle ou telle fonction, en dehors des fonctions) et pas dans d'autres.  \n",
    "Voici une première expérience:"
   ]
  },
  {
   "cell_type": "code",
   "execution_count": 20,
   "metadata": {},
   "outputs": [
    {
     "name": "stdout",
     "output_type": "stream",
     "text": [
      "n dans la fonction: 11\n",
      "retour fonction: 11\n",
      "n global: 10\n"
     ]
    }
   ],
   "source": [
    "def plusUn(n):\n",
    "    n += 1\n",
    "    print(\"n dans la fonction:\",n)\n",
    "    return n\n",
    "\n",
    "n = 10\n",
    "print(\"retour fonction:\",plusUn(n))\n",
    "print(\"n global:\",n)"
   ]
  },
  {
   "cell_type": "markdown",
   "metadata": {},
   "source": [
    "On constate que `n` vaut toujours `10`, alors que, dans la fonction `plusUn`, nous avons écrit `n = n+1`.  \n",
    "En effet, le `n` défini en dehors de la fonction est une **variable globale**.  \n",
    "Mais le `n` défini (en paramètre) dans la fonction est une **variable locale à la fonction**, qui porte le même nom mais n'a aucun lien avec le `n` global."
   ]
  },
  {
   "cell_type": "markdown",
   "metadata": {},
   "source": [
    "Voici une seconde expérience avec une fonction `plusUn` modifiée :"
   ]
  },
  {
   "cell_type": "code",
   "execution_count": 21,
   "metadata": {},
   "outputs": [
    {
     "name": "stdout",
     "output_type": "stream",
     "text": [
      "m dans la fonction: 99\n",
      "retour fonction: 11\n"
     ]
    }
   ],
   "source": [
    "def plusUn(n):\n",
    "    print(\"m dans la fonction:\",m)\n",
    "    n = n+1\n",
    "    return n\n",
    "\n",
    "m = 99\n",
    "print(\"retour fonction:\",plusUn(10))"
   ]
  },
  {
   "cell_type": "markdown",
   "metadata": {},
   "source": [
    "On constate que le `m` affiché dans la fonction est bien le `m` global défini en dehors.  \n",
    "Dans une fonction, on a donc accès aux variables globales...à condition qu'une variable locale de même nom ne recouvre pas la définition globale, comme c'était le cas dans l'exemple précédent."
   ]
  },
  {
   "cell_type": "markdown",
   "metadata": {},
   "source": [
    "Voici une troisième expérience avec une fonction `plusUn` modifiée :"
   ]
  },
  {
   "cell_type": "code",
   "execution_count": 22,
   "metadata": {},
   "outputs": [
    {
     "ename": "UnboundLocalError",
     "evalue": "cannot access local variable 'm' where it is not associated with a value",
     "output_type": "error",
     "traceback": [
      "\u001b[1;31m---------------------------------------------------------------------------\u001b[0m",
      "\u001b[1;31mUnboundLocalError\u001b[0m                         Traceback (most recent call last)",
      "Cell \u001b[1;32mIn[22], line 9\u001b[0m\n\u001b[0;32m      6\u001b[0m     \u001b[38;5;28;01mreturn\u001b[39;00m n\n\u001b[0;32m      8\u001b[0m m \u001b[38;5;241m=\u001b[39m \u001b[38;5;241m99\u001b[39m\n\u001b[1;32m----> 9\u001b[0m m \u001b[38;5;241m=\u001b[39m \u001b[43mplusUn\u001b[49m\u001b[43m(\u001b[49m\u001b[38;5;241;43m10\u001b[39;49m\u001b[43m)\u001b[49m\n",
      "Cell \u001b[1;32mIn[22], line 2\u001b[0m, in \u001b[0;36mplusUn\u001b[1;34m(n)\u001b[0m\n\u001b[0;32m      1\u001b[0m \u001b[38;5;28;01mdef\u001b[39;00m \u001b[38;5;21mplusUn\u001b[39m(n):\n\u001b[1;32m----> 2\u001b[0m     \u001b[38;5;28mprint\u001b[39m(\u001b[38;5;124m\"\u001b[39m\u001b[38;5;124mm dans la fonction avant mise à zéro:\u001b[39m\u001b[38;5;124m\"\u001b[39m,\u001b[43mm\u001b[49m)\n\u001b[0;32m      3\u001b[0m     m \u001b[38;5;241m=\u001b[39m \u001b[38;5;241m0\u001b[39m\n\u001b[0;32m      4\u001b[0m     \u001b[38;5;28mprint\u001b[39m(\u001b[38;5;124m\"\u001b[39m\u001b[38;5;124mm dans la fonction après mise à zéro:\u001b[39m\u001b[38;5;124m\"\u001b[39m,m)\n",
      "\u001b[1;31mUnboundLocalError\u001b[0m: cannot access local variable 'm' where it is not associated with a value"
     ]
    }
   ],
   "source": [
    "def plusUn(n):\n",
    "    print(\"m dans la fonction avant mise à zéro:\",m)\n",
    "    m = 0\n",
    "    print(\"m dans la fonction après mise à zéro:\",m)\n",
    "    n = n+1\n",
    "    return n\n",
    "\n",
    "m = 99\n",
    "m = plusUn(10)"
   ]
  },
  {
   "cell_type": "markdown",
   "metadata": {},
   "source": [
    "Ca plante! En effet, la règle en python est la suivante: **dans les fonctions, on peut accéder aux variables globales EN LECTURE UNIQUEMENT**."
   ]
  },
  {
   "cell_type": "markdown",
   "metadata": {},
   "source": [
    "<img src=\"https://cdn.pixabay.com/photo/2018/01/04/16/53/building-3061124_960_720.png\" width=30 align=left><div class=\"alert alert-block alert-danger\">**Exo 3.6 - Expériences**  \n",
    "Dans le programme précédent, tentez deux expériences:  \n",
    " * retirez le premier `print` de la fonction et testez. Expliquez le résultat.\n",
    " * remettez le `print` retiré précédemment, et faites le précéder de `global m`. Testez et expliquez le résultat."
   ]
  },
  {
   "cell_type": "markdown",
   "metadata": {},
   "source": [
    "Voici ce que j'en conclue:  \n",
    " * \n",
    " *"
   ]
  },
  {
   "cell_type": "markdown",
   "metadata": {},
   "source": [
    "<img src=\"https://cdn.pixabay.com/photo/2016/10/18/19/40/anatomy-1751201_960_720.png\" width=\"30\" align=left><div class=\"alert alert-block alert-info\">**Qu3.1 Conclusions**  \n",
    "Les paramètres des fonctions sont passés par... .  \n",
    "    **Pour les types primaires (int,float,bool)**, les paramètres sont en fait des.... des variables originales passées lors de l'appel.  \n",
    "    Le mot clé `global`, utilisé dans une fonction, permet de..."
   ]
  },
  {
   "cell_type": "markdown",
   "metadata": {},
   "source": [
    "**Pour conclure, règle primordiale lorsqu'on programme: ON EVITE A TOUT PRIX D'UTILISER DES VARIABLES GLOBALES DANS DES FONCTIONS.** Pourquoi?"
   ]
  },
  {
   "cell_type": "markdown",
   "metadata": {},
   "source": [
    "<img src=\"https://cdn.pixabay.com/photo/2016/10/18/19/40/anatomy-1751201_960_720.png\" width=\"30\" align=left><div class=\"alert alert-block alert-info\">**Qu3.2 No global**  \n",
    "Lorsqu'on programme, il ne faut pas utiliser des variables globales dans des fonctions car..."
   ]
  },
  {
   "cell_type": "markdown",
   "metadata": {},
   "source": [
    "<img src=\"https://cdn.pixabay.com/photo/2018/01/04/16/53/building-3061124_960_720.png\" width=30 align=left><div class=\"alert alert-block alert-danger\">**Exo 3.7 - 2nd max**  \n",
    "Ecrivez une fonction qui reçoit une liste d'entiers et renvoie le second maximum.  \n",
    "**Vous penserez à gérer tous les cas particuliers.**"
   ]
  },
  {
   "cell_type": "code",
   "execution_count": 24,
   "metadata": {},
   "outputs": [
    {
     "name": "stdout",
     "output_type": "stream",
     "text": [
      "8\n"
     ]
    }
   ],
   "source": [
    "def deuxiemeMax(l):\n",
    "    if len(l) == 0:\n",
    "        return \"Ceci n'est pas une liste\"\n",
    "    m = max(l)\n",
    "    l.remove(m)\n",
    "    if len(l) == 0:\n",
    "        return \"Il n'y a qu'un seul élément dans cette liste\"\n",
    "    m = max(l)\n",
    "    return m\n",
    "\n",
    "liste = [1, 2, 3, 4, 5, 6, 7, 8, 9]\n",
    "print(deuxiemeMax(liste))"
   ]
  },
  {
   "cell_type": "markdown",
   "metadata": {},
   "source": [
    "## Types conteneurs en paramètres des fonctions\n",
    "Nous venons de voir que les types primaires qu'on passait en paramètres à une fonction étaient en fait copiés dans des variables locales.  \n",
    "Voyons ce qu'il en est pour les types conteneurs: `list, dict, str`."
   ]
  },
  {
   "cell_type": "code",
   "execution_count": 25,
   "metadata": {},
   "outputs": [
    {
     "name": "stdout",
     "output_type": "stream",
     "text": [
      "[1, 0, 8, 2]\n"
     ]
    }
   ],
   "source": [
    "def truc(m):\n",
    "    m.append(2)\n",
    "    return\n",
    "\n",
    "l = [1,0,8]\n",
    "truc(l)\n",
    "print(l)"
   ]
  },
  {
   "cell_type": "markdown",
   "metadata": {},
   "source": [
    "Diantre, que s'est-il passé?  \n",
    "1. On n'a pas retourné `m`! (on n'a même rien retourné dans cette fonction, c'est donc possible)\n",
    "2. Si on suit la règle énoncée plus haut, le `m` de la fonction est une copie du `l` global  \n",
    "\n",
    "Donc `l` n'aurait pas dû être modifié. Mais..."
   ]
  },
  {
   "cell_type": "markdown",
   "metadata": {},
   "source": [
    "<img src=\"https://cdn.pixabay.com/photo/2016/10/18/19/40/anatomy-1751201_960_720.png\" width=\"30\" align=left><div class=\"alert alert-block alert-info\">**Qu3.3 Types conteneurs en paramètres**  \n",
    "Lorsqu'on passe un type conteneur en paramètre (`list`, `dict`, `set`, `str`), on travaille en fait sur .... et non sur la ..... "
   ]
  },
  {
   "cell_type": "markdown",
   "metadata": {},
   "source": [
    "<img src=\"https://cdn.pixabay.com/photo/2018/01/04/16/53/building-3061124_960_720.png\" width=30 align=left><div class=\"alert alert-block alert-danger\">**Exo 3.8 - Sous-liste des positifs 1**  \n",
    "Ecrivez une fonction qui reçoit une liste d'entiers et renvoie **une nouvelle liste** ne contenant que les positifs de la première, dans le même ordre.  \n",
    "**Vous penserez à gérer tous les cas particuliers.**"
   ]
  },
  {
   "cell_type": "code",
   "execution_count": 32,
   "metadata": {},
   "outputs": [
    {
     "name": "stdout",
     "output_type": "stream",
     "text": [
      "[1, 3, 5, 7, 9]\n"
     ]
    }
   ],
   "source": [
    "def onlyPos(l):\n",
    "\n",
    "    if len(l) == 0:\n",
    "        return \"Ceci n'est pas une liste\"\n",
    "    newliste = []\n",
    "    for i in l:\n",
    "        if i < 0:\n",
    "            continue\n",
    "        else:\n",
    "            newliste.append(i)\n",
    "    return newliste\n",
    "\n",
    "liste = [1, -2, 3, -4, 5, -6, 7, -8, 9]\n",
    "print(onlyPos(liste))"
   ]
  },
  {
   "cell_type": "markdown",
   "metadata": {},
   "source": [
    "<img src=\"https://cdn.pixabay.com/photo/2018/01/04/16/53/building-3061124_960_720.png\" width=30 align=left><div class=\"alert alert-block alert-danger\">**Exo 3.9 - Sous-liste des positifs 2**  \n",
    "Ecrivez une fonction qui reçoit une liste d'entiers et **modifie cette liste** afin qu'elle ne contienne que des positifs, dans le même ordre.  \n",
    "**Vous penserez à gérer tous les cas particuliers.**"
   ]
  },
  {
   "cell_type": "code",
   "execution_count": 34,
   "metadata": {},
   "outputs": [
    {
     "name": "stdout",
     "output_type": "stream",
     "text": [
      "[1, 3, 5, 7, 9]\n"
     ]
    }
   ],
   "source": [
    "def onlyPos(l):\n",
    "\n",
    "    if len(l) == 0:\n",
    "        return \"Ceci n'est pas une liste\"\n",
    "    for i in l:\n",
    "        if i < 0:\n",
    "            l.remove(i)\n",
    "    return l\n",
    "\n",
    "liste = [1, -2, 3, -4, 5, -6, 7, -8, 9]\n",
    "print(onlyPos(liste))"
   ]
  },
  {
   "cell_type": "code",
   "execution_count": null,
   "metadata": {},
   "outputs": [],
   "source": []
  }
 ],
 "metadata": {
  "colab": {
   "name": "Untitled0.ipynb",
   "provenance": []
  },
  "kernelspec": {
   "display_name": "Python 3",
   "language": "python",
   "name": "python3"
  },
  "language_info": {
   "codemirror_mode": {
    "name": "ipython",
    "version": 3
   },
   "file_extension": ".py",
   "mimetype": "text/x-python",
   "name": "python",
   "nbconvert_exporter": "python",
   "pygments_lexer": "ipython3",
   "version": "3.12.5"
  }
 },
 "nbformat": 4,
 "nbformat_minor": 1
}
