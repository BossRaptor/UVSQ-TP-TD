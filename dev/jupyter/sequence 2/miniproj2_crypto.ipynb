{
 "cells": [
  {
   "cell_type": "markdown",
   "metadata": {
    "id": "79iyzuEGGWfr"
   },
   "source": [
    "# Mini-projet 2 :<img src=\"https://cdn.pixabay.com/photo/2014/05/27/23/32/matrix-356024_960_720.jpg\" width=\"500\" align=\"right\">\n",
    "# Quelques méthodes de cryptographie\n",
    "Dans ce mini-projet on regarde différentes techniques de cryptographie (comment coder un message) et de cryptanalyse (comment le décoder). Dans tout le travail on utilisera des messages en minuscules, avec les lettres de `'a'` à `'z'` plus l'espace `' '` et le point `'.'`.  \n",
    "On travaille donc sur un \"alphabet\" de taille 28."
   ]
  },
  {
   "cell_type": "code",
   "execution_count": 54,
   "metadata": {
    "executionInfo": {
     "elapsed": 357,
     "status": "ok",
     "timestamp": 1633348887614,
     "user": {
      "displayName": "David Auger",
      "photoUrl": "https://lh3.googleusercontent.com/a-/AOh14GiHtpJKxbhjnqN59O73SiY_gvGeDS2NEUsE9V1YUQ=s64",
      "userId": "03825696780836238935"
     },
     "user_tz": -120
    },
    "id": "PXWbZq0SI8xn"
   },
   "outputs": [],
   "source": [
    "alphabet = \"abcdefghijklmnopqrstuvwxyz .\" #notez espace et point à la fin"
   ]
  },
  {
   "cell_type": "markdown",
   "metadata": {
    "id": "PATFH36mfNjm"
   },
   "source": [
    "**Tous** les messages donnés en clair ou encodés sont basés sur cet alphabet de longueur 28."
   ]
  },
  {
   "cell_type": "markdown",
   "metadata": {
    "id": "HGN9qgijGg2_"
   },
   "source": [
    "## 0. Chiffre de substitution simple"
   ]
  },
  {
   "cell_type": "markdown",
   "metadata": {
    "id": "ZyuFJBbMGg5v"
   },
   "source": [
    "Le **chiffrement par substitution** consiste à remplacer chaque caractère d'un message par un autre caractère prévu à l'avance. On décide par exemple de remplacer chacun des 28 caractères  \n",
    "a -> g  \n",
    "b -> x  \n",
    "...  \n",
    "espace -> b  \n",
    "selon une table quelconque fixée à l'avance.\n",
    "\n",
    "\n",
    "\n"
   ]
  },
  {
   "cell_type": "markdown",
   "metadata": {
    "id": "aRQTi1fQH_n2"
   },
   "source": [
    "<img src=\"https://cdn.pixabay.com/photo/2018/01/04/16/53/building-3061124_960_720.png\" width=30 align=left><div class=\"alert alert-block alert-danger\">**Cryptage par substitution**  \n",
    "    Ecrivez une fonction `cryptSubst(message, table)` réalisant le chiffrement par substitution du message `messge` étant donnée une table de substitution `table`.  \n",
    "Pour la table on pourra utiliser un dictionnaire généré aléatoirement comme ceci:"
   ]
  },
  {
   "cell_type": "code",
   "execution_count": 55,
   "metadata": {
    "executionInfo": {
     "elapsed": 325,
     "status": "ok",
     "timestamp": 1633348325515,
     "user": {
      "displayName": "David Auger",
      "photoUrl": "https://lh3.googleusercontent.com/a-/AOh14GiHtpJKxbhjnqN59O73SiY_gvGeDS2NEUsE9V1YUQ=s64",
      "userId": "03825696780836238935"
     },
     "user_tz": -120
    },
    "id": "NWVICWuwH-l0",
    "scrolled": true
   },
   "outputs": [
    {
     "name": "stdout",
     "output_type": "stream",
     "text": [
      "{'a': 'd', 'b': '.', 'c': 'o', 'd': 'r', 'e': 'w', 'f': 'k', 'g': 'y', 'h': 'b', 'i': 'u', 'j': 't', 'k': 'p', 'l': 'q', 'm': ' ', 'n': 'f', 'o': 'm', 'p': 'z', 'q': 'c', 'r': 'x', 's': 'v', 't': 'a', 'u': 'h', 'v': 'e', 'w': 'i', 'x': 'g', 'y': 'j', 'z': 'l', ' ': 's', '.': 'n'}\n"
     ]
    }
   ],
   "source": [
    "import random\n",
    "shakeIt = random.sample(alphabet, len(alphabet)) # notre alphabet mélangé, sous forme de liste\n",
    "table = { alphabet[i]:shakeIt[i] for i in range(len(alphabet))} # notre dictionnaire de chiffrement\n",
    "print(table)"
   ]
  },
  {
   "cell_type": "markdown",
   "metadata": {
    "id": "375vbAsrIYTB"
   },
   "source": [
    "Voici un petit texte pour vous entraîner à coder."
   ]
  },
  {
   "cell_type": "code",
   "execution_count": 56,
   "metadata": {
    "colab": {
     "base_uri": "https://localhost:8080/",
     "height": 108
    },
    "executionInfo": {
     "elapsed": 279,
     "status": "ok",
     "timestamp": 1633354417332,
     "user": {
      "displayName": "David Auger",
      "photoUrl": "https://lh3.googleusercontent.com/a-/AOh14GiHtpJKxbhjnqN59O73SiY_gvGeDS2NEUsE9V1YUQ=s64",
      "userId": "03825696780836238935"
     },
     "user_tz": -120
    },
    "id": "AKK9xcRgGUmc",
    "outputId": "1cc67c14-0523-4a05-ca5b-aef97445ad47"
   },
   "outputs": [],
   "source": [
    "message0 = \"c est alors qu un vieux marin. a la face rotie par le soleil et balafree d une immense estafilade. vint pour la premiere fois loger sous notre toit. je le vois encore. arrivant d un pas lourd a la porte de chez nous. suivi de son coffre de matelot qu un homme trainait dans une brouette. il etait grand. d apparence athletique. avec une face au teint couleur de brique. une queue goudronnee qui battait le col graisseux de son vieil habit bleu. des mains enormes. calleuses. toutes couturees de cicatrices. et ce coup de sabre qui avait laisse sur sa face. du front au bas de la joue gauche. un sillon blanchatre et livide. je me le rappelle comme si c etait d hier. s arretant pour regarder tout autour de la baie en sifflotant entre ses dents . puis. fredonnant cette vieille chanson de mer qu il devait si souvent nous faire entendre. helas .\""
   ]
  },
  {
   "cell_type": "markdown",
   "metadata": {
    "id": "375vbAsrIYTB"
   },
   "source": [
    "<img src=\"https://cdn.pixabay.com/photo/2018/01/04/16/53/building-3061124_960_720.png\" width=30 align=left><div class=\"alert alert-block alert-danger\">**Décryptage par substitution**  \n",
    "    Ecrivez une fonction `inverseTable` qui, pour une table de substitution donnée, génère la table de substitution inverse.  \n",
    "    Ecrivez maintenant une fonction `decryptSubst` qui, pour une table de substitution inversée donnée, décrypte un message, et testez-là sur le résultat obtenu ci-dessus."
   ]
  },
  {
   "cell_type": "code",
   "execution_count": 57,
   "metadata": {},
   "outputs": [
    {
     "name": "stdout",
     "output_type": "stream",
     "text": [
      "qmv jmtzcd mlimi.mswvirmotdw.bmtmztmntqvmdcjwvmktdmzvm czvwzmvjmhtztndvvmami.vmwoov. vmv jtnwztavbmsw.jmkcidmztmkdvowvdvmncw mzcxvdm ci m.cjdvmjcwjbmyvmzvmscw mv.qcdvbmtddwst.jmami.mkt mzcidamtmztmkcdjvmavmquvpm.ci bm iwswmavm c.mqcnndvmavmotjvzcjmlimi.mucoovmjdtw.twjmat. mi.vmhdcivjjvbmwzmvjtwjmxdt.abmamtkktdv.qvmtjuzvjwlivbmtsvqmi.vmntqvmtimjvw.jmqcizvidmavmhdwlivbmi.vmlivivmxciadc..vvmliwmhtjjtwjmzvmqczmxdtw  virmavm c.mswvwzmuthwjmhzvibmav motw. mv.cdov bmqtzzvi v bmjcijv mqcijidvv mavmqwqtjdwqv bmvjmqvmqcikmavm thdvmliwmtstwjmztw  vm idm tmntqvbmaimndc.jmtimht mavmztmycivmxtiquvbmi.m wzzc.mhzt.qutjdvmvjmzwswavbmyvmovmzvmdtkkvzzvmqcoovm wmqmvjtwjmamuwvdbm mtddvjt.jmkcidmdvxtdavdmjcijmtijcidmavmztmhtwvmv.m wnnzcjt.jmv.jdvm v mav.j mbmkiw bmndvac..t.jmqvjjvmswvwzzvmqut. c.mavmovdmlimwzmavstwjm wm cisv.jm.ci mntwdvmv.jv.advbmuvzt mb\n"
     ]
    }
   ],
   "source": [
    "def inverseTable(table):\n",
    "    return {v: k for k, v in table.items()}\n",
    "\n",
    "def decryptSubst(message, inverse_table):\n",
    "    return ''.join(inverse_table[char] for char in message)\n",
    "\n",
    "inverse_table = inverseTable(table)\n",
    "\n",
    "decrypted_message = decryptSubst(message0, inverse_table)\n",
    "print(decrypted_message)"
   ]
  },
  {
   "cell_type": "markdown",
   "metadata": {
    "id": "ZxXoBPYxNwpG"
   },
   "source": [
    "## Défi de cryptanalyse 0\n",
    "Un cas particulier de chiffrage par substitution est le **chiffre de César**, qui consiste à décaler chaque lettre de trois places (en général) dans l'alphabet, de façon circulaire :  \n",
    "a devient d  \n",
    "b devient e   \n",
    "...  \n",
    "x devient espace  \n",
    "y devient .   \n",
    "z devient a     \n",
    "espace devient b   \n",
    ". devient c  \n",
    "\n",
    "<img src=\"https://cdn.pixabay.com/photo/2018/01/04/16/53/building-3061124_960_720.png\" width=30 align=left><div class=\"alert alert-block alert-danger\">**Cryptage de César**  \n",
    "    Ecrivez une fonction qui crée une table de substitution pour un chiffre de César généralisé (qui décale tout d'un nombre quelconque `d`). Utilisez votre fonction `inverseTable` afin de générer la table inverse.  \n",
    "    \n",
    "Le message suivant a été chiffré par un chiffre de César de décalage inconnu. Sachant que la source contient le mot `\"furibond\"`, décryptez le message."
   ]
  },
  {
   "cell_type": "code",
   "execution_count": 58,
   "metadata": {
    "executionInfo": {
     "elapsed": 229,
     "status": "ok",
     "timestamp": 1633354423327,
     "user": {
      "displayName": "David Auger",
      "photoUrl": "https://lh3.googleusercontent.com/a-/AOh14GiHtpJKxbhjnqN59O73SiY_gvGeDS2NEUsE9V1YUQ=s64",
      "userId": "03825696780836238935"
     },
     "user_tz": -120
    },
    "id": "6MwF0plqNLY5"
   },
   "outputs": [],
   "source": [
    "defi0 = \"tpvirzipjcpydbbvpvmigrdguzcrzgvbvciphzavctzvjmqpzaperhhrzipidjivhphvhp djgcvvhprpwarcvgprjidjgpuvparpsrzvpdjphjgparpwrarzhvqprgbvpupjcpkzvjmpivavhtdevpuvptjzkgvqpavphdzgqpzapgvhirziprhhzhprjptdzcpujpwvjpurchpavpergadzgqpsjkrcipujpxgdxpigvhpwdgiqpvcpxvcvgraqpzapcvpgvedcurzipbvbvperhpfjrcupdcpajzprugvhhrziparpergdavqpdjqpedjgpidjivpgvedchvqpzaphvptdcivcirzipuvpgvavkvgparpivivpupjcprzgpwjgzsdcupvcphdjwwarcipergpavpcvoptdbbvpjcptrtyradiqprjhhzpegzbvhpcdjhpszvcidipapyrszijuvpuvpavparzhhvgpigrcfjzaavq\""
   ]
  },
  {
   "cell_type": "markdown",
   "metadata": {
    "id": "yTOuf2EBZq5b"
   },
   "source": [
    "## 1. Le chiffre de Vigenère"
   ]
  },
  {
   "cell_type": "markdown",
   "metadata": {
    "id": "qp8rEY3kZvfM"
   },
   "source": [
    "Le chiffre de vigenère consiste à utiliser une clé que l'on va répéter qui va nous donner un décalage différent pour chaque lettre du message. Plus d'infos ici https://fr.wikipedia.org/wiki/Chiffre_de_Vigen%C3%A8re.  \n",
    "De notre côté, nous travaillons toujours sur notre alphabet de taille 28, les décalages se font donc modulo 28."
   ]
  },
  {
   "cell_type": "markdown",
   "metadata": {
    "id": "yFiWJGIGdGU5"
   },
   "source": [
    "<img src=\"https://cdn.pixabay.com/photo/2018/01/04/16/53/building-3061124_960_720.png\" width=30 align=left><div class=\"alert alert-block alert-danger\">**Cryptage/décryptage Vigenère**  \n",
    "    Ecrivez des fonctions permettant de coder et décoder un chiffrage de Vigenère avec une clé donnée. Pour vérifier, sachez que l'encodage de `\"ali baba et les quarante voleurs\"` avec la clé `\"britney\"` doit produire :\n",
    "`\"baqroezbpmklpatpylnvyoimrgshfjzj\"`"
   ]
  },
  {
   "cell_type": "code",
   "execution_count": 59,
   "metadata": {},
   "outputs": [
    {
     "name": "stdout",
     "output_type": "stream",
     "text": [
      "baqroezbpmklpatpylnvyoimrgshfjzj\n",
      "ali baba et les quarante voleurs\n"
     ]
    }
   ],
   "source": [
    "def vigenere_encrypt(message, key, alphabet):\n",
    "    key = (key * (len(message) // len(key) + 1))[:len(message)]\n",
    "    encrypted_message = []\n",
    "    for m, k in zip(message, key):\n",
    "        m_index = alphabet.index(m)\n",
    "        k_index = alphabet.index(k)\n",
    "        encrypted_message.append(alphabet[(m_index + k_index) % len(alphabet)])\n",
    "    return ''.join(encrypted_message)\n",
    "\n",
    "def vigenere_decrypt(encrypted_message, key, alphabet):\n",
    "    key = (key * (len(encrypted_message) // len(key) + 1))[:len(encrypted_message)]\n",
    "    decrypted_message = []\n",
    "    for em, k in zip(encrypted_message, key):\n",
    "        em_index = alphabet.index(em)\n",
    "        k_index = alphabet.index(k)\n",
    "        decrypted_message.append(alphabet[(em_index - k_index) % len(alphabet)])\n",
    "    return ''.join(decrypted_message)\n",
    "\n",
    "# Vérification\n",
    "message = \"ali baba et les quarante voleurs\"\n",
    "key = \"britney\"\n",
    "encrypted_message = vigenere_encrypt(message, key, alphabet)\n",
    "print(encrypted_message)\n",
    "decrypted_message = vigenere_decrypt(encrypted_message, key, alphabet)\n",
    "print(decrypted_message) "
   ]
  },
  {
   "cell_type": "markdown",
   "metadata": {
    "id": "plcrpSHPd6NA"
   },
   "source": [
    "## Défi de cryptanalyse 1\n",
    "Le texte suivant a été chiffré avec un chiffre de Vigenère dont la clé est de longueur 7. Sachant que la source contient les mots `\"silence\"` et `\"capitaine\"`, décryptez."
   ]
  },
  {
   "cell_type": "code",
   "execution_count": 60,
   "metadata": {
    "executionInfo": {
     "elapsed": 325,
     "status": "ok",
     "timestamp": 1633354446407,
     "user": {
      "displayName": "David Auger",
      "photoUrl": "https://lh3.googleusercontent.com/a-/AOh14GiHtpJKxbhjnqN59O73SiY_gvGeDS2NEUsE9V1YUQ=s64",
      "userId": "03825696780836238935"
     },
     "user_tz": -120
    },
    "id": "heqiSkV8ZupU"
   },
   "outputs": [
    {
     "name": "stdout",
     "output_type": "stream",
     "text": [
      "key: cvujogp\n",
      "cependant le capitaine sortait par degres de sa torpeur. sous l influence de sa propre musique. et enfin il donna un grand coup de poing a la table. nous connaissions tous ce signal. qui voulait dire   silence . tout le monde se tut. excepte le docteur livesey. qui continua a parler. de sa voix claire et douce. en tirant de temps a autre une bouffee de sa pipe.\n"
     ]
    }
   ],
   "source": [
    "from collections import Counter\n",
    "\n",
    "defi1 = \"ezhn.jppmsuserciaaooagtkxdzpkmsyoxnfz  synfzs.oegqkhngxoalgbee abfoz tpxyhrknuvsyductzsvgyxsnyimkgazfowtnkesmatactmwmmecgxhquhrtxnmvbkg hoe ctljprtbtfxgynehfwoofubgweegqnkhqknub woroajmrm.bweurfeskkyhmefkeywqknbtlxgznnzsvatsgtknmzhvusnjitrmyhzknfhwas eaeacsyt uszgonehfawthctuhbgenzjimjtaluhhuxztwuooegtyamjbwxyimkaama otgayyhfk.rlsjmghvkyhgttawgbtltgtxnmypaiaysf\"\n",
    "\n",
    "\n",
    "def find_key_vigenere(encrypted_message, key_length, alphabet):\n",
    "    key = ''\n",
    "    for i in range(key_length):\n",
    "        subtext = encrypted_message[i::key_length]\n",
    "        freq = Counter(subtext)\n",
    "        most_common_char = freq.most_common(1)[0][0]\n",
    "        shift = (alphabet.index(most_common_char) - alphabet.index(' ')) % len(alphabet)\n",
    "        key += alphabet[shift]\n",
    "    return key\n",
    "\n",
    "key_length = 7\n",
    "key = find_key_vigenere(defi1, key_length, alphabet)\n",
    "print(f\"key: {key}\")\n",
    "\n",
    "decrypted_message = vigenere_decrypt(defi1, key, alphabet)\n",
    "print(decrypted_message)"
   ]
  },
  {
   "cell_type": "markdown",
   "metadata": {
    "id": "B6tmunyhSwqj"
   },
   "source": [
    "## Défi de cryptanalyse 2 : analyse des fréquences\n",
    "Le message suivant a été chiffré avec un chiffre de substitution simple. Vu la longueur du texte, il est probable que la lettre la plus commune soit l'espace. Viennent ensuite dans l'ordre le e, le a et le s, comme dans tous les textes français assez longs (le texte n'est pas assez long pour que le point soit si fréquent).  \n",
    "Ceci, ainsi que le fait de savoir que le texte contient les mots `\"capitaine\"` et `\"locataire\"`, devrait vous aider à reconstituer la table.  \n",
    "Contrairement aux deux défis précédents, il est difficile de programmer l'intégralité du décryptage ici, il faut procéder par essais-erreurs sur des portions de la table de la table de susbtitution jusqu'à ce que le texte prenne forme."
   ]
  },
  {
   "cell_type": "code",
   "execution_count": 89,
   "metadata": {
    "executionInfo": {
     "elapsed": 221,
     "status": "ok",
     "timestamp": 1633354457361,
     "user": {
      "displayName": "David Auger",
      "photoUrl": "https://lh3.googleusercontent.com/a-/AOh14GiHtpJKxbhjnqN59O73SiY_gvGeDS2NEUsE9V1YUQ=s64",
      "userId": "03825696780836238935"
     },
     "user_tz": -120
    },
    "id": "Z8-jXLd_NLcI"
   },
   "outputs": [
    {
     "name": "stdout",
     "output_type": "stream",
     "text": [
      "mais en sepit se cette terrerr tre me carsait l isee serle se l comme a la mamue rnitrew m etais uearcorp moins effrale sr capitaine lri meme tre tortes les artres personnes se mon entorragew parfoisw le soirw il uraait plrs se rcrm tre sa tete ne poraait en porterw et se mettait a uergler ses aier  ccants uaccitres or nartitresw sans faire attention a rien se ce tri se passait sans le parloirw maisw s artre foisw il faisait sonner ses aerres a tort le monse et forcait les parares gens tremulants a ecorter ses cistoires sans trere ni tete or a l accompagner en ccorrw uien soraent m ai entensr aiurer tors les planccers se la maison ar ccant ses   lo co cow lo co cow   tri aorlaient la uorteille w   tors les aoisins s l mettaient a tre tetew car la perr les talonnait   et c etait a tri crierait le plrs fort porr eaiter les ouseraationsw c est trew sans ces accesw notre locataire etait terriulew il faisait tremuler la terre sors ses corps se poing porr reclamer le silence   or uien il se mettait sans rne colere effrolaule parce tr on lri asressait rne trestionw   or parce tr on ne lri en asressait pasw   et tr il en conclrait tre la compagnie n ecortait pas son cistoirew il n arrait pas fallr non plrs s aaiser se tritter l aruerge aaant tr il frt alle se corccer en titruant w notey tre prestre tormorrs ses recits etaient faits porr sonner la ccair se porlew ce n etaient tre pensaisons a la granse aergrew corps se cortearw comuats corps a corpsw tempetes effrolaulesw aaentrres teneurerses srr les oceans ses ser  monsesw s apres ses propres siresw il aaait certainement aecr parmi les plrs atroces gresins tre la mer ait mamais portes   et le langage sont il se seraait porr secrire tortes ces correrrs etait fait porr eporaanter se simples campagnarssw comme nos cauitresw plrs encore pert etre tre les crimes memes sont ils ecortaient le recitw cet comme nors glacait litteralement le sang sans les aeinesw mon pere repetait sr matin ar soir tre sa presence finirait par rriner l aruergew et tre nos plrs fiseles clients finiraient par se lasser s etre ainsi urrtalises   sans compter tr ils rentraient cauitrellement ccey er  les cceaer  cerisses se terrerrw mais me croirais aolontiersw ar contrairew tre ces etranges aeillees nors attiraient sr monsew on aaait perrw et porrtant on prenait gort a ces emotions poignantesw apres tortw le capitaine mettait rn per s interet sans la aie monotone se la campagnew certains mernes gens affectaient meme se l asmirerw sisant tre c etait rn   arai lorp  w   rn aier  marsorin  w rn se ces commes tri ont fait l angleterre si terriule srr les mersw\n"
     ]
    }
   ],
   "source": [
    "from collections import Counter\n",
    "\n",
    "defi2 = \"xh.rjdijsdg.cjsdjfdccdjcdeedpejtpdjxdjfhprh.cjkj.sddjrdpkdjsdjkjovxxdjhjkhjmhxudjpi.tpdwjmjdch.rjudhpfvpgjxv.irjdqqehldjspjfhg.ch.idjkp.jxdxdjtpdjcvpcdrjkdrjhpcedrjgderviidrjsdjxvijdicvpehbdwjgheqv.rwjkdjrv.ewj.kjupah.cjgkprjsdjeopxjtpdjrhjcdcdjidjgvpah.cjdijgvecdewjdcjrdjxdcch.cjhjudpbkdejrdrja.dp jfohicrjuhfo.tpdrjvpjihpc.tpdrwjrhirjqh.edjhccdic.vijhje.dijsdjfdjtp.jrdjghrrh.cjshirjkdjghekv.ewjxh.rwjsjhpcedjqv.rwj.kjqh.rh.cjsviidejsdrjadeedrjhjcvpcjkdjxvisdjdcjqvefh.cjkdrjghpaedrjbdirjcedxukhicrjhjdfvpcdejsdrjo.rcv.edrjrhirjtpdpdji.jcdcdjvpjhjkjhffvxghbidejdijfovpewju.dijrvpadicjmjh.jdicdispja.uedejcvprjkdrjgkhifoderjsdjkhjxh.rvijhpjfohicjsdrjjjlvjovjovwjlvjovjovwjjjtp.javpkh.dicjkhjuvpcd.kkdjwjjjcvprjkdrjav.r.irjrjljxdcch.dicjhjcpdjcdcdwjfhejkhjgdpejkdrjchkviih.cjjjdcjfjdch.cjhjtp.jfe.deh.cjkdjgkprjqvecjgvpejda.cdejkdrjvurdeahc.virwjfjdrcjtpdwjshirjfdrjhffdrwjivcedjkvfhch.edjdch.cjcdee.ukdwj.kjqh.rh.cjcedxukdejkhjcdeedjrvprjrdrjfvpgrjsdjgv.ibjgvpejedfkhxdejkdjr.kdifdjjjvpju.dij.kjrdjxdcch.cjshirjpidjfvkdedjdqqevlhukdjghefdjtpjvijkp.jhsedrrh.cjpidjtpdrc.viwjjjvpjghefdjtpjvijidjkp.jdijhsedrrh.cjghrwjjjdcjtpj.kjdijfvifkph.cjtpdjkhjfvxghbi.djijdfvpch.cjghrjrvijo.rcv.edwj.kjijhpeh.cjghrjqhkkpjivijgkprjrjha.rdejsdjtp.ccdejkjhpudebdjhahicjtpj.kjqpcjhkkdjrdjfvpfodejdijc.cpuhicjwjivcdyjtpdjgedrtpdjcvpmvperjrdrjedf.crjdch.dicjqh.crjgvpejsviidejkhjfoh.ejsdjgvpkdwjfdjijdch.dicjtpdjgdish.rvirjhjkhjbehisdjadebpdwjfvpgrjsdjfvpcdhpwjfvxuhcrjfvegrjhjfvegrwjcdxgdcdrjdqqevlhukdrwjhadicpedrjcdiduedprdrjrpejkdrjvfdhirjsdrjsdp jxvisdrwjsjhgedrjrdrjgevgedrjs.edrwj.kjhah.cjfdech.idxdicjadfpjghex.jkdrjgkprjhcevfdrjbeds.irjtpdjkhjxdejh.cjmhxh.rjgvecdrjjjdcjkdjkhibhbdjsvicj.kjrdjrdeah.cjgvpejsdfe.edjcvpcdrjfdrjoveedperjdch.cjqh.cjgvpejdgvpahicdejsdjr.xgkdrjfhxghbihesrwjfvxxdjivrjohu.cpdrwjgkprjdifvedjgdpcjdcedjtpdjkdrjfe.xdrjxdxdrjsvicj.krjdfvpch.dicjkdjedf.cwjfdcjovxxdjivprjbkhfh.cjk.ccdehkdxdicjkdjrhibjshirjkdrjad.idrwjxvijgdedjedgdch.cjspjxhc.ijhpjrv.ejtpdjrhjgedrdifdjq.i.eh.cjghejep.idejkjhpudebdwjdcjtpdjivrjgkprjq.sdkdrjfk.dicrjq.i.eh.dicjghejrdjkhrrdejsjdcedjh.ir.juepchk.rdrjjjrhirjfvxgcdejtpj.krjediceh.dicjohu.cpdkkdxdicjfodyjdp jkdrjfodadp jode.rrdrjsdjcdeedpewjxh.rjmdjfev.eh.rjavkvic.derwjhpjfviceh.edwjtpdjfdrjdcehibdrjad.kkddrjivprjhcc.eh.dicjspjxvisdwjvijhah.cjgdpewjdcjgvpechicjvijgedih.cjbvpcjhjfdrjdxvc.virjgv.bihicdrwjhgedrjcvpcwjkdjfhg.ch.idjxdcch.cjpijgdpjsj.icdedcjshirjkhja.djxvivcvidjsdjkhjfhxghbidwjfdech.irjmdpidrjbdirjhqqdfch.dicjxdxdjsdjkjhsx.edewjs.rhicjtpdjfjdch.cjpijjjaeh.jkvpgjjwjjjpija.dp jxhervp.ijjwjpijsdjfdrjovxxdrjtp.jvicjqh.cjkjhibkdcdeedjr.jcdee.ukdjrpejkdrjxderw\"\n",
    "\n",
    "substitution_table = {\n",
    "    'j': ' ',\n",
    "    'd': 'e', \n",
    "    'h': 'a',\n",
    "    'r': 's', \n",
    "    'c': 't',\n",
    "    '.': 'i',\n",
    "    'e': 'r',  \n",
    "    'i': 'n', \n",
    "    'p': 'r',\n",
    "    'k': 'l' ,\n",
    "    \"v\": \"o\",\n",
    "    \"x\": \"m\",\n",
    "    \"b\": \"g\",\n",
    "    \"g\": \"p\",\n",
    "    \"o\": \"c\",\n",
    "    \"f\": \"c\",\n",
    "    \"q\": \"f\"\n",
    "}\n",
    "\n",
    "# Function to decrypt the message using the substitution table\n",
    "def decrypt_with_substitution(message, table):\n",
    "    return ''.join(table.get(char, char) for char in message)\n",
    "\n",
    "# Decrypt the message\n",
    "decrypted_message = decrypt_with_substitution(defi2, substitution_table)\n",
    "print(decrypted_message)"
   ]
  }
 ],
 "metadata": {
  "colab": {
   "authorship_tag": "ABX9TyPqVrK57qWE4x7pWjfvKk4k",
   "collapsed_sections": [],
   "name": "mp2_crypto.ipynb",
   "provenance": []
  },
  "kernelspec": {
   "display_name": "Python 3",
   "language": "python",
   "name": "python3"
  },
  "language_info": {
   "codemirror_mode": {
    "name": "ipython",
    "version": 3
   },
   "file_extension": ".py",
   "mimetype": "text/x-python",
   "name": "python",
   "nbconvert_exporter": "python",
   "pygments_lexer": "ipython3",
   "version": "3.12.5"
  }
 },
 "nbformat": 4,
 "nbformat_minor": 1
}
