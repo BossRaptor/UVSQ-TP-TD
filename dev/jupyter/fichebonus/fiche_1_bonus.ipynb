{
 "cells": [
  {
   "cell_type": "markdown",
   "metadata": {
    "id": "cjDU4EhlsPk6"
   },
   "source": [
    " <img src=\"https://cdn.pixabay.com/photo/2017/05/11/13/15/slot-machine-2304135_960_720.png\" align=right width=\"250\">   \n",
    "# Bonus \n",
    "**A faire si et seulement si toute la séquence 1 est terminée.**"
   ]
  },
  {
   "cell_type": "markdown",
   "metadata": {},
   "source": [
    "<img src=\"https://cdn.pixabay.com/photo/2018/01/04/16/53/building-3061124_960_720.png\" width=30 align=left><div class=\"alert alert-block alert-danger\">**Exo B.x - Alternance**  \n",
    "    Ecrire un programme qui, pour une liste de 0 et de 1, calcule le nombre de groupes de  0 consécutifs et de 1 consécutifs. Par exemple pour [0,0,0,1,1,0,1,0,0], la réponse est 5."
   ]
  },
  {
   "cell_type": "code",
   "execution_count": 6,
   "metadata": {},
   "outputs": [
    {
     "name": "stdout",
     "output_type": "stream",
     "text": [
      "5\n"
     ]
    }
   ],
   "source": [
    "lst = [0, 0, 0, 1, 1, 0, 1, 0, 0]\n",
    "def count_consecutive_groups(lst):\n",
    "    count = 1\n",
    "    prev_element = lst[0]\n",
    "    for element in lst[1:]:\n",
    "        if element != prev_element:\n",
    "            count += 1\n",
    "        prev_element = element\n",
    "    return count\n",
    "\n",
    "print(count_consecutive_groups(lst))  # 5"
   ]
  },
  {
   "cell_type": "markdown",
   "metadata": {},
   "source": [
    "<img src=\"https://cdn.pixabay.com/photo/2018/01/04/16/53/building-3061124_960_720.png\" width=30 align=left><div class=\"alert alert-block alert-danger\">**Exo B.0 - Plus longue suite de zéros**  \n",
    "    Ecrire un programme qui, pour une liste d'entiers, calcule la longueur de la plus longue suite de zéros consécutifs."
   ]
  },
  {
   "cell_type": "code",
   "execution_count": 9,
   "metadata": {
    "id": "AbprG3TwvB5D"
   },
   "outputs": [
    {
     "name": "stdout",
     "output_type": "stream",
     "text": [
      "7\n"
     ]
    }
   ],
   "source": [
    "liste = [0, 0, 0, 0, 0, 0, 0, 1, 1, 0, 1, 0, 0] # 7\n",
    "def longest_zero_sequence(lst):\n",
    "    max_length = 0\n",
    "    current_length = 0\n",
    "    for num in lst:\n",
    "        if num == 0:\n",
    "            current_length += 1\n",
    "            if current_length > max_length:\n",
    "                max_length = current_length\n",
    "        else:\n",
    "            current_length = 0\n",
    "    print(max_length)\n",
    "\n",
    "\n",
    "\n",
    "longest_zero_sequence(liste)"
   ]
  },
  {
   "cell_type": "markdown",
   "metadata": {},
   "source": [
    "<img src=\"https://cdn.pixabay.com/photo/2018/01/04/16/53/building-3061124_960_720.png\" width=30 align=left><div class=\"alert alert-block alert-danger\">**Exo B.1 - Plus long sous-tableau croissant**  \n",
    "    Ecrire un programme qui, pour une liste d'entiers, calcule la longueur de la plus longue suite croissante d'entiers de la liste."
   ]
  },
  {
   "cell_type": "code",
   "execution_count": 1,
   "metadata": {},
   "outputs": [
    {
     "name": "stdout",
     "output_type": "stream",
     "text": [
      "4\n"
     ]
    }
   ],
   "source": [
    "def longest_increasing_subsequence(lst):\n",
    "    if not lst:\n",
    "        return 0\n",
    "\n",
    "    max_length = 1\n",
    "    current_length = 1\n",
    "\n",
    "    for i in range(1, len(lst)):\n",
    "        if lst[i] > lst[i - 1]:\n",
    "            current_length += 1\n",
    "            if current_length > max_length:\n",
    "                max_length = current_length\n",
    "        else:\n",
    "            current_length = 1\n",
    "\n",
    "    return max_length\n",
    "\n",
    "liste = [1, 2, 1, 2, 3, 4, 1, 2, 3]  # 4\n",
    "print(longest_increasing_subsequence(liste))"
   ]
  },
  {
   "cell_type": "markdown",
   "metadata": {},
   "source": [
    "<img src=\"https://cdn.pixabay.com/photo/2018/01/04/16/53/building-3061124_960_720.png\" width=30 align=left><div class=\"alert alert-block alert-danger\">**Exo B.x - Sous-chaîne**  \n",
    "    On donne deux chaînes de caractère s1 et s2, il s'agit de déterminer si la chaîne s1 apparaît à l'intérieur de la chaîne s2  \n",
    "    ex : s1= \"ab\" et s2 = \"baba\" , c'est vrai  \n",
    "         s2= \"hop\" et s2 = \"chipote\" c'est faux"
   ]
  },
  {
   "cell_type": "code",
   "execution_count": 6,
   "metadata": {
    "id": "AbprG3TwvB5D"
   },
   "outputs": [
    {
     "name": "stdout",
     "output_type": "stream",
     "text": [
      "True\n",
      "False\n"
     ]
    }
   ],
   "source": [
    "def is_substring(s1, s2):\n",
    "    return s1 in s2\n",
    "\n",
    "s1 = \"ab\"\n",
    "s2 = \"baba\"\n",
    "print(is_substring(s1, s2))\n",
    "\n",
    "s1 = \"hop\"\n",
    "s2 = \"chipote\"\n",
    "print(is_substring(s1, s2))"
   ]
  },
  {
   "cell_type": "markdown",
   "metadata": {},
   "source": [
    "<img src=\"https://cdn.pixabay.com/photo/2018/01/04/16/53/building-3061124_960_720.png\" width=30 align=left><div class=\"alert alert-block alert-danger\">**Exo B.2 - Del repeat**  \n",
    "    Ecrire un programme  qui, pour une liste d'entiers, supprime les répétitions consécutives **dans cette même liste** (sans créer de nouvelle liste). On n'utilisera pas de méthode des listes, trop coûteuses, mais on procèdera en décalant efficacement les valeurs. La fin de la liste sera complétée avec des `None`.  \n",
    "    *Exemple:* `[1,1,7,3,3,3,4]` devient `[1,7,3,4,None,None,None]`"
   ]
  },
  {
   "cell_type": "code",
   "execution_count": 11,
   "metadata": {
    "id": "AbprG3TwvB5D"
   },
   "outputs": [
    {
     "name": "stdout",
     "output_type": "stream",
     "text": [
      "[1, 7, 3, 4, None, None, None]\n"
     ]
    }
   ],
   "source": [
    "lst = [1,1,7,3,3,3,4]\n",
    "def remove_consecutive(lst):\n",
    "    for i in range(len(lst) - 1, 0, -1):\n",
    "        if lst[i] == lst[i - 1]:\n",
    "            lst.pop(i)\n",
    "            lst.append(None)\n",
    "    return lst\n",
    "\n",
    "print(remove_consecutive(lst))"
   ]
  },
  {
   "cell_type": "markdown",
   "metadata": {},
   "source": [
    "<img src=\"https://cdn.pixabay.com/photo/2018/01/04/16/53/building-3061124_960_720.png\" width=30 align=left><div class=\"alert alert-block alert-danger\">**Exo B.3 - Tri bicolore**  \n",
    "    Considérons une liste de 10 éléments ayant  deux valeurs possibles: `'h'` ou `'f'`.  \n",
    "    *Exemple:* `['h','h','f','h','h','f','f','f','f','h']`  \n",
    "    On souhaite ordonner cette liste de façon à placer tous les `'h'` en début de liste et tous les `'f'` à la fin.  \n",
    "    Vous devez trouver un algorithme efficace qui réalise ce tri en un seul passage."
   ]
  },
  {
   "cell_type": "code",
   "execution_count": 17,
   "metadata": {
    "id": "AbprG3TwvB5D"
   },
   "outputs": [
    {
     "name": "stdout",
     "output_type": "stream",
     "text": [
      "['h', 'h', 'h', 'h', 'h', 'f', 'f', 'f', 'f', 'f']\n"
     ]
    }
   ],
   "source": [
    "lst = ['h','h','f','h','h','f','f','f','f','h']\n",
    "\n",
    "def sort(lst):\n",
    "    for i in range(len(lst)):\n",
    "        if lst[i] == 'h':\n",
    "            lst.insert(0, lst.pop(i))\n",
    "    return lst\n",
    "\n",
    "print(sort(lst))"
   ]
  },
  {
   "cell_type": "markdown",
   "metadata": {},
   "source": [
    "<img src=\"https://cdn.pixabay.com/photo/2018/01/04/16/53/building-3061124_960_720.png\" width=30 align=left><div class=\"alert alert-block alert-danger\">**Exo B.4 - Tri tricolore**  \n",
    "    Même exercice...avec trois valeurs possibles: `'h'`, `'f'` ou `'n'`.  "
   ]
  },
  {
   "cell_type": "code",
   "execution_count": 19,
   "metadata": {
    "id": "AbprG3TwvB5D"
   },
   "outputs": [
    {
     "name": "stdout",
     "output_type": "stream",
     "text": [
      "['h', 'n', 'n', 'n', 'n', 'n', 'n', 'h', 'h', 'h', 'h', 'f', 'f', 'f', 'f', 'f']\n"
     ]
    }
   ],
   "source": [
    "lst = ['h','h','f','h','h','n','n','n','n','n','n','f','f','f','f','h']\n",
    "def sort(lst):\n",
    "    for i in range(len(lst)):\n",
    "        if lst[i] == 'h' or lst[i] == 'n':\n",
    "            lst.insert(0, lst.pop(i))\n",
    "    return lst\n",
    "\n",
    "print(sort(lst))"
   ]
  },
  {
   "cell_type": "markdown",
   "metadata": {},
   "source": [
    "<img src=\"https://cdn.pixabay.com/photo/2018/01/04/16/53/building-3061124_960_720.png\" width=30 align=left><div class=\"alert alert-block alert-danger\">**Exo B.5 - Dichotomie**  \n",
    "    On dispose d'une liste `l` de 20 entiers triés. On souhaite rechercher un élément `n` dans cette liste. La méthode dichotomique permet de rechercher bien plus efficacement que la méthode classique.  \n",
    "**Principe**: comparer la valeur `n` recherchée avec la valeur `m` se trouvant au milieu de la liste.  \n",
    " * si `n==m`, c'est gagné \n",
    " * si la valeur recherchée est plus petite que `m`, c'est qu'il faut chercher `n` dans la moitié gauche du tableau\n",
    " * sinon, dans la partie droite\n",
    " * puis réitérer la recherche dans la sous-partie sélectionnée\n",
    " "
   ]
  },
  {
   "cell_type": "code",
   "execution_count": 27,
   "metadata": {
    "id": "AbprG3TwvB5D"
   },
   "outputs": [
    {
     "name": "stdout",
     "output_type": "stream",
     "text": [
      "17\n"
     ]
    }
   ],
   "source": [
    "l = [0,1,2,3,4,5,6,7,8,9,10,11,12,13,14,15,16,17,18,19]\n",
    "target = 17\n",
    "def search(l, target):\n",
    "    low = 0\n",
    "    high = len(l) - 1\n",
    "    while low <= high:\n",
    "        mid = (low + high) // 2\n",
    "        if l[mid] == target:\n",
    "            return mid\n",
    "        elif l[mid] < target:\n",
    "            low = mid + 1\n",
    "        else:\n",
    "            high = mid - 1\n",
    "    return None\n",
    "\n",
    "print(search(l, target))"
   ]
  },
  {
   "cell_type": "markdown",
   "metadata": {},
   "source": [
    "<img src=\"https://cdn.pixabay.com/photo/2018/01/04/16/53/building-3061124_960_720.png\" width=30 align=left><div class=\"alert alert-block alert-danger\">**Exo B.6 - Combi**  \n",
    "    On dispose d'une liste `l` de 10 entiers quelconques.  \n",
    "    Construire et afficher toutes les listes possibles de 3 entiers issus de cette liste `l`.\n",
    " "
   ]
  },
  {
   "cell_type": "code",
   "execution_count": null,
   "metadata": {},
   "outputs": [],
   "source": []
  },
  {
   "cell_type": "markdown",
   "metadata": {},
   "source": [
    "<img src=\"https://cdn.pixabay.com/photo/2018/01/04/16/53/building-3061124_960_720.png\" width=30 align=left><div class=\"alert alert-block alert-danger\">**Exo B.x - Sous-tableaux monotones**  \n",
    "    Ecrire un programme qui découpe de façon efficace un tableau donné en entrée en sous-tableaux, qui sont soit croissants soit décroissants. Par exemple :  \n",
    "    [1,3,4,3,2,5,6] -> [ [1,3,4], [3,2], [5,6]  \n",
    "    [3,4,3,2,1,3,4,1,2,0,3,4] -> [ [3,4], [3,2,1], [3,4], [1,2], [0, 3, 4] ]"
   ]
  },
  {
   "cell_type": "code",
   "execution_count": null,
   "metadata": {
    "id": "AbprG3TwvB5D"
   },
   "outputs": [],
   "source": []
  }
 ],
 "metadata": {
  "colab": {
   "name": "Untitled0.ipynb",
   "provenance": []
  },
  "kernelspec": {
   "display_name": "Python 3 (ipykernel)",
   "language": "python",
   "name": "python3"
  },
  "language_info": {
   "codemirror_mode": {
    "name": "ipython",
    "version": 3
   },
   "file_extension": ".py",
   "mimetype": "text/x-python",
   "name": "python",
   "nbconvert_exporter": "python",
   "pygments_lexer": "ipython3",
   "version": "3.12.5"
  }
 },
 "nbformat": 4,
 "nbformat_minor": 1
}
